{
 "cells": [
  {
   "cell_type": "code",
   "execution_count": 1,
   "metadata": {},
   "outputs": [],
   "source": [
    "import pandas as pd\n",
    "import dask.dataframe as dd\n",
    "import numpy as np\n",
    "from scipy import stats\n",
    "import seaborn as sns\n",
    "import matplotlib.pyplot as pl\n",
    "import pickle\n",
    "from sklearn.model_selection import train_test_split\n",
    "from sklearn.metrics import mean_absolute_error, median_absolute_error, mean_squared_error\n",
    "from sklearn import tree, svm\n",
    "from sklearn.ensemble import GradientBoostingRegressor, AdaBoostRegressor\n",
    "from sklearn.neighbors import KNeighborsRegressor\n",
    "from sklearn.neural_network import MLPRegressor\n",
    "#from sklearn.model_selection import train_test_split"
   ]
  },
  {
   "cell_type": "code",
   "execution_count": 2,
   "metadata": {},
   "outputs": [],
   "source": [
    "df = pd.read_csv('./ML/bez_trip_id_a_timestamp.csv')"
   ]
  },
  {
   "cell_type": "code",
   "execution_count": 3,
   "metadata": {},
   "outputs": [
    {
     "data": {
      "text/html": [
       "<div>\n",
       "<style scoped>\n",
       "    .dataframe tbody tr th:only-of-type {\n",
       "        vertical-align: middle;\n",
       "    }\n",
       "\n",
       "    .dataframe tbody tr th {\n",
       "        vertical-align: top;\n",
       "    }\n",
       "\n",
       "    .dataframe thead th {\n",
       "        text-align: right;\n",
       "    }\n",
       "</style>\n",
       "<table border=\"1\" class=\"dataframe\">\n",
       "  <thead>\n",
       "    <tr style=\"text-align: right;\">\n",
       "      <th></th>\n",
       "      <th>calculated_delay</th>\n",
       "      <th>delay_stop_departure</th>\n",
       "      <th>hour</th>\n",
       "      <th>minute</th>\n",
       "      <th>day_of_week</th>\n",
       "      <th>speed</th>\n",
       "      <th>distance_traveled</th>\n",
       "      <th>trip_delay</th>\n",
       "      <th>section_last_delay</th>\n",
       "      <th>section_avg_delay</th>\n",
       "    </tr>\n",
       "  </thead>\n",
       "  <tbody>\n",
       "    <tr>\n",
       "      <th>0</th>\n",
       "      <td>205</td>\n",
       "      <td>198</td>\n",
       "      <td>23</td>\n",
       "      <td>5</td>\n",
       "      <td>4</td>\n",
       "      <td>7</td>\n",
       "      <td>57.3</td>\n",
       "      <td>242</td>\n",
       "      <td>268</td>\n",
       "      <td>214</td>\n",
       "    </tr>\n",
       "    <tr>\n",
       "      <th>1</th>\n",
       "      <td>-67</td>\n",
       "      <td>-22</td>\n",
       "      <td>23</td>\n",
       "      <td>5</td>\n",
       "      <td>4</td>\n",
       "      <td>21</td>\n",
       "      <td>36.6</td>\n",
       "      <td>90</td>\n",
       "      <td>125</td>\n",
       "      <td>201</td>\n",
       "    </tr>\n",
       "    <tr>\n",
       "      <th>2</th>\n",
       "      <td>45</td>\n",
       "      <td>43</td>\n",
       "      <td>23</td>\n",
       "      <td>5</td>\n",
       "      <td>4</td>\n",
       "      <td>23</td>\n",
       "      <td>27.3</td>\n",
       "      <td>0</td>\n",
       "      <td>7</td>\n",
       "      <td>61</td>\n",
       "    </tr>\n",
       "    <tr>\n",
       "      <th>3</th>\n",
       "      <td>113</td>\n",
       "      <td>166</td>\n",
       "      <td>23</td>\n",
       "      <td>5</td>\n",
       "      <td>4</td>\n",
       "      <td>55</td>\n",
       "      <td>18.3</td>\n",
       "      <td>30</td>\n",
       "      <td>277</td>\n",
       "      <td>79</td>\n",
       "    </tr>\n",
       "    <tr>\n",
       "      <th>4</th>\n",
       "      <td>255</td>\n",
       "      <td>239</td>\n",
       "      <td>23</td>\n",
       "      <td>5</td>\n",
       "      <td>4</td>\n",
       "      <td>33</td>\n",
       "      <td>20.9</td>\n",
       "      <td>8</td>\n",
       "      <td>356</td>\n",
       "      <td>305</td>\n",
       "    </tr>\n",
       "  </tbody>\n",
       "</table>\n",
       "</div>"
      ],
      "text/plain": [
       "   calculated_delay  delay_stop_departure  hour  minute  day_of_week  speed  \\\n",
       "0               205                   198    23       5            4      7   \n",
       "1               -67                   -22    23       5            4     21   \n",
       "2                45                    43    23       5            4     23   \n",
       "3               113                   166    23       5            4     55   \n",
       "4               255                   239    23       5            4     33   \n",
       "\n",
       "   distance_traveled  trip_delay  section_last_delay  section_avg_delay  \n",
       "0               57.3         242                 268                214  \n",
       "1               36.6          90                 125                201  \n",
       "2               27.3           0                   7                 61  \n",
       "3               18.3          30                 277                 79  \n",
       "4               20.9           8                 356                305  "
      ]
     },
     "execution_count": 3,
     "metadata": {},
     "output_type": "execute_result"
    }
   ],
   "source": [
    "df.head()"
   ]
  },
  {
   "cell_type": "code",
   "execution_count": 6,
   "metadata": {},
   "outputs": [
    {
     "name": "stdout",
     "output_type": "stream",
     "text": [
      "<class 'pandas.core.frame.DataFrame'>\n",
      "RangeIndex: 10863314 entries, 0 to 10863313\n",
      "Data columns (total 10 columns):\n",
      "calculated_delay        int64\n",
      "delay_stop_departure    int64\n",
      "hour                    int64\n",
      "minute                  int64\n",
      "day_of_week             int64\n",
      "speed                   int64\n",
      "distance_traveled       float64\n",
      "trip_delay              int64\n",
      "section_last_delay      int64\n",
      "section_avg_delay       int64\n",
      "dtypes: float64(1), int64(9)\n",
      "memory usage: 828.8 MB\n"
     ]
    }
   ],
   "source": [
    "df.info()"
   ]
  },
  {
   "cell_type": "code",
   "execution_count": 7,
   "metadata": {
    "jupyter": {
     "source_hidden": true
    }
   },
   "outputs": [
    {
     "data": {
      "image/png": "[encoded data removed]",
      "text/plain": [
       "<Figure size 432x288 with 1 Axes>"
      ]
     },
     "metadata": {
      "needs_background": "light"
     },
     "output_type": "display_data"
    }
   ],
   "source": [
    "fig = sns.distplot(df['calculated_delay'], bins=20, kde = False, rug=True)\n",
    "fig.get_figure().savefig('calculated_delay_distribution.png')"
   ]
  },
  {
   "cell_type": "code",
   "execution_count": 5,
   "metadata": {
    "jupyter": {
     "source_hidden": true
    }
   },
   "outputs": [
    {
     "data": {
      "image/png": "[encoded data removed]",
      "text/plain": [
       "<Figure size 432x288 with 1 Axes>"
      ]
     },
     "metadata": {
      "needs_background": "light"
     },
     "output_type": "display_data"
    }
   ],
   "source": [
    "fig_2 = sns.distplot(df['delay_stop_departure'], bins=20, kde = False, rug=True)\n",
    "fig_2.get_figure().savefig('delay_stop_departure_distr.png')"
   ]
  },
  {
   "cell_type": "code",
   "execution_count": 6,
   "metadata": {},
   "outputs": [
    {
     "data": {
      "text/html": [
       "<div>\n",
       "<style scoped>\n",
       "    .dataframe tbody tr th:only-of-type {\n",
       "        vertical-align: middle;\n",
       "    }\n",
       "\n",
       "    .dataframe tbody tr th {\n",
       "        vertical-align: top;\n",
       "    }\n",
       "\n",
       "    .dataframe thead th {\n",
       "        text-align: right;\n",
       "    }\n",
       "</style>\n",
       "<table border=\"1\" class=\"dataframe\">\n",
       "  <thead>\n",
       "    <tr style=\"text-align: right;\">\n",
       "      <th></th>\n",
       "      <th>calculated_delay</th>\n",
       "      <th>delay_stop_departure</th>\n",
       "      <th>hour</th>\n",
       "      <th>minute</th>\n",
       "      <th>day_of_week</th>\n",
       "      <th>speed</th>\n",
       "      <th>distance_traveled</th>\n",
       "      <th>trip_delay</th>\n",
       "      <th>section_last_delay</th>\n",
       "      <th>section_avg_delay</th>\n",
       "    </tr>\n",
       "  </thead>\n",
       "  <tbody>\n",
       "    <tr>\n",
       "      <th>count</th>\n",
       "      <td>1.086331e+07</td>\n",
       "      <td>1.086331e+07</td>\n",
       "      <td>1.086331e+07</td>\n",
       "      <td>1.086331e+07</td>\n",
       "      <td>1.086331e+07</td>\n",
       "      <td>1.086331e+07</td>\n",
       "      <td>1.086331e+07</td>\n",
       "      <td>1.086331e+07</td>\n",
       "      <td>1.086331e+07</td>\n",
       "      <td>1.086331e+07</td>\n",
       "    </tr>\n",
       "    <tr>\n",
       "      <th>mean</th>\n",
       "      <td>-6.293476e+01</td>\n",
       "      <td>1.539429e+02</td>\n",
       "      <td>1.174717e+01</td>\n",
       "      <td>2.948051e+01</td>\n",
       "      <td>3.578772e+00</td>\n",
       "      <td>2.996750e+01</td>\n",
       "      <td>1.207330e+01</td>\n",
       "      <td>7.974908e+01</td>\n",
       "      <td>1.604717e+02</td>\n",
       "      <td>1.264131e+02</td>\n",
       "    </tr>\n",
       "    <tr>\n",
       "      <th>std</th>\n",
       "      <td>4.338557e+03</td>\n",
       "      <td>2.095885e+02</td>\n",
       "      <td>5.059448e+00</td>\n",
       "      <td>1.729529e+01</td>\n",
       "      <td>1.795433e+00</td>\n",
       "      <td>2.276382e+01</td>\n",
       "      <td>1.133600e+01</td>\n",
       "      <td>1.105582e+02</td>\n",
       "      <td>2.114124e+02</td>\n",
       "      <td>1.448300e+02</td>\n",
       "    </tr>\n",
       "    <tr>\n",
       "      <th>min</th>\n",
       "      <td>-8.666300e+04</td>\n",
       "      <td>-6.000000e+02</td>\n",
       "      <td>0.000000e+00</td>\n",
       "      <td>0.000000e+00</td>\n",
       "      <td>1.000000e+00</td>\n",
       "      <td>-1.000000e+00</td>\n",
       "      <td>0.000000e+00</td>\n",
       "      <td>-1.570000e+02</td>\n",
       "      <td>-5.950000e+02</td>\n",
       "      <td>-4.210000e+02</td>\n",
       "    </tr>\n",
       "    <tr>\n",
       "      <th>25%</th>\n",
       "      <td>2.300000e+01</td>\n",
       "      <td>2.900000e+01</td>\n",
       "      <td>7.000000e+00</td>\n",
       "      <td>1.500000e+01</td>\n",
       "      <td>2.000000e+00</td>\n",
       "      <td>1.100000e+01</td>\n",
       "      <td>3.600000e+00</td>\n",
       "      <td>3.000000e+00</td>\n",
       "      <td>3.300000e+01</td>\n",
       "      <td>2.900000e+01</td>\n",
       "    </tr>\n",
       "    <tr>\n",
       "      <th>50%</th>\n",
       "      <td>9.300000e+01</td>\n",
       "      <td>9.300000e+01</td>\n",
       "      <td>1.200000e+01</td>\n",
       "      <td>2.900000e+01</td>\n",
       "      <td>4.000000e+00</td>\n",
       "      <td>3.000000e+01</td>\n",
       "      <td>8.800000e+00</td>\n",
       "      <td>4.200000e+01</td>\n",
       "      <td>1.010000e+02</td>\n",
       "      <td>8.200000e+01</td>\n",
       "    </tr>\n",
       "    <tr>\n",
       "      <th>75%</th>\n",
       "      <td>2.130000e+02</td>\n",
       "      <td>2.080000e+02</td>\n",
       "      <td>1.600000e+01</td>\n",
       "      <td>4.400000e+01</td>\n",
       "      <td>5.000000e+00</td>\n",
       "      <td>4.500000e+01</td>\n",
       "      <td>1.730000e+01</td>\n",
       "      <td>1.110000e+02</td>\n",
       "      <td>2.180000e+02</td>\n",
       "      <td>1.730000e+02</td>\n",
       "    </tr>\n",
       "    <tr>\n",
       "      <th>max</th>\n",
       "      <td>6.522000e+03</td>\n",
       "      <td>2.400000e+03</td>\n",
       "      <td>2.300000e+01</td>\n",
       "      <td>5.900000e+01</td>\n",
       "      <td>7.000000e+00</td>\n",
       "      <td>3.040000e+02</td>\n",
       "      <td>6.830000e+01</td>\n",
       "      <td>2.311000e+03</td>\n",
       "      <td>2.398000e+03</td>\n",
       "      <td>2.384000e+03</td>\n",
       "    </tr>\n",
       "  </tbody>\n",
       "</table>\n",
       "</div>"
      ],
      "text/plain": [
       "       calculated_delay  delay_stop_departure          hour        minute  \\\n",
       "count      1.086331e+07          1.086331e+07  1.086331e+07  1.086331e+07   \n",
       "mean      -6.293476e+01          1.539429e+02  1.174717e+01  2.948051e+01   \n",
       "std        4.338557e+03          2.095885e+02  5.059448e+00  1.729529e+01   \n",
       "min       -8.666300e+04         -6.000000e+02  0.000000e+00  0.000000e+00   \n",
       "25%        2.300000e+01          2.900000e+01  7.000000e+00  1.500000e+01   \n",
       "50%        9.300000e+01          9.300000e+01  1.200000e+01  2.900000e+01   \n",
       "75%        2.130000e+02          2.080000e+02  1.600000e+01  4.400000e+01   \n",
       "max        6.522000e+03          2.400000e+03  2.300000e+01  5.900000e+01   \n",
       "\n",
       "        day_of_week         speed  distance_traveled    trip_delay  \\\n",
       "count  1.086331e+07  1.086331e+07       1.086331e+07  1.086331e+07   \n",
       "mean   3.578772e+00  2.996750e+01       1.207330e+01  7.974908e+01   \n",
       "std    1.795433e+00  2.276382e+01       1.133600e+01  1.105582e+02   \n",
       "min    1.000000e+00 -1.000000e+00       0.000000e+00 -1.570000e+02   \n",
       "25%    2.000000e+00  1.100000e+01       3.600000e+00  3.000000e+00   \n",
       "50%    4.000000e+00  3.000000e+01       8.800000e+00  4.200000e+01   \n",
       "75%    5.000000e+00  4.500000e+01       1.730000e+01  1.110000e+02   \n",
       "max    7.000000e+00  3.040000e+02       6.830000e+01  2.311000e+03   \n",
       "\n",
       "       section_last_delay  section_avg_delay  \n",
       "count        1.086331e+07       1.086331e+07  \n",
       "mean         1.604717e+02       1.264131e+02  \n",
       "std          2.114124e+02       1.448300e+02  \n",
       "min         -5.950000e+02      -4.210000e+02  \n",
       "25%          3.300000e+01       2.900000e+01  \n",
       "50%          1.010000e+02       8.200000e+01  \n",
       "75%          2.180000e+02       1.730000e+02  \n",
       "max          2.398000e+03       2.384000e+03  "
      ]
     },
     "execution_count": 6,
     "metadata": {},
     "output_type": "execute_result"
    }
   ],
   "source": [
    "df.describe()"
   ]
  },
  {
   "cell_type": "code",
   "execution_count": 3,
   "metadata": {},
   "outputs": [],
   "source": [
    "def remove_outlier(df_in, col_name):\n",
    "    q1 = df_in[col_name].quantile(0.25)\n",
    "    q3 = df_in[col_name].quantile(0.75)\n",
    "    iqr = q3-q1 #Interquartile range\n",
    "    fence_low  = q1-1.5*iqr\n",
    "    fence_high = q3+1.5*iqr\n",
    "    df_out = df_in.loc[(df_in[col_name] > fence_low) & (df_in[col_name] < fence_high)]\n",
    "    return df_out"
   ]
  },
  {
   "cell_type": "code",
   "execution_count": 4,
   "metadata": {},
   "outputs": [],
   "source": [
    "df = remove_outlier(df, 'calculated_delay')\n",
    "df = remove_outlier(df, 'delay_stop_departure')"
   ]
  },
  {
   "cell_type": "code",
   "execution_count": 9,
   "metadata": {},
   "outputs": [
    {
     "name": "stdout",
     "output_type": "stream",
     "text": [
      "<class 'pandas.core.frame.DataFrame'>\n",
      "Int64Index: 9809330 entries, 0 to 10863313\n",
      "Data columns (total 10 columns):\n",
      "calculated_delay        int64\n",
      "delay_stop_departure    int64\n",
      "hour                    int64\n",
      "minute                  int64\n",
      "day_of_week             int64\n",
      "speed                   int64\n",
      "distance_traveled       float64\n",
      "trip_delay              int64\n",
      "section_last_delay      int64\n",
      "section_avg_delay       int64\n",
      "dtypes: float64(1), int64(9)\n",
      "memory usage: 823.2 MB\n"
     ]
    }
   ],
   "source": [
    "df.info()"
   ]
  },
  {
   "cell_type": "code",
   "execution_count": 13,
   "metadata": {},
   "outputs": [
    {
     "data": {
      "text/html": [
       "<div>\n",
       "<style scoped>\n",
       "    .dataframe tbody tr th:only-of-type {\n",
       "        vertical-align: middle;\n",
       "    }\n",
       "\n",
       "    .dataframe tbody tr th {\n",
       "        vertical-align: top;\n",
       "    }\n",
       "\n",
       "    .dataframe thead th {\n",
       "        text-align: right;\n",
       "    }\n",
       "</style>\n",
       "<table border=\"1\" class=\"dataframe\">\n",
       "  <thead>\n",
       "    <tr style=\"text-align: right;\">\n",
       "      <th></th>\n",
       "      <th>calculated_delay</th>\n",
       "      <th>delay_stop_departure</th>\n",
       "      <th>hour</th>\n",
       "      <th>minute</th>\n",
       "      <th>day_of_week</th>\n",
       "      <th>speed</th>\n",
       "      <th>distance_traveled</th>\n",
       "      <th>trip_delay</th>\n",
       "      <th>section_last_delay</th>\n",
       "      <th>section_avg_delay</th>\n",
       "    </tr>\n",
       "  </thead>\n",
       "  <tbody>\n",
       "    <tr>\n",
       "      <th>count</th>\n",
       "      <td>9.809330e+06</td>\n",
       "      <td>9.809330e+06</td>\n",
       "      <td>9.809330e+06</td>\n",
       "      <td>9.809330e+06</td>\n",
       "      <td>9.809330e+06</td>\n",
       "      <td>9.809330e+06</td>\n",
       "      <td>9.809330e+06</td>\n",
       "      <td>9.809330e+06</td>\n",
       "      <td>9.809330e+06</td>\n",
       "      <td>9.809330e+06</td>\n",
       "    </tr>\n",
       "    <tr>\n",
       "      <th>mean</th>\n",
       "      <td>1.017177e+02</td>\n",
       "      <td>1.053668e+02</td>\n",
       "      <td>1.169496e+01</td>\n",
       "      <td>2.952974e+01</td>\n",
       "      <td>3.606374e+00</td>\n",
       "      <td>3.002444e+01</td>\n",
       "      <td>1.133457e+01</td>\n",
       "      <td>6.337520e+01</td>\n",
       "      <td>1.362285e+02</td>\n",
       "      <td>1.018281e+02</td>\n",
       "    </tr>\n",
       "    <tr>\n",
       "      <th>std</th>\n",
       "      <td>1.149295e+02</td>\n",
       "      <td>1.065491e+02</td>\n",
       "      <td>5.094760e+00</td>\n",
       "      <td>1.727480e+01</td>\n",
       "      <td>1.806250e+00</td>\n",
       "      <td>2.265729e+01</td>\n",
       "      <td>1.088599e+01</td>\n",
       "      <td>8.377568e+01</td>\n",
       "      <td>1.730849e+02</td>\n",
       "      <td>1.055651e+02</td>\n",
       "    </tr>\n",
       "    <tr>\n",
       "      <th>min</th>\n",
       "      <td>-2.610000e+02</td>\n",
       "      <td>-2.040000e+02</td>\n",
       "      <td>2.000000e+00</td>\n",
       "      <td>0.000000e+00</td>\n",
       "      <td>1.000000e+00</td>\n",
       "      <td>-1.000000e+00</td>\n",
       "      <td>0.000000e+00</td>\n",
       "      <td>-1.570000e+02</td>\n",
       "      <td>-5.950000e+02</td>\n",
       "      <td>-2.930000e+02</td>\n",
       "    </tr>\n",
       "    <tr>\n",
       "      <th>25%</th>\n",
       "      <td>1.800000e+01</td>\n",
       "      <td>2.400000e+01</td>\n",
       "      <td>7.000000e+00</td>\n",
       "      <td>1.500000e+01</td>\n",
       "      <td>2.000000e+00</td>\n",
       "      <td>1.100000e+01</td>\n",
       "      <td>3.300000e+00</td>\n",
       "      <td>1.000000e+00</td>\n",
       "      <td>3.000000e+01</td>\n",
       "      <td>2.500000e+01</td>\n",
       "    </tr>\n",
       "    <tr>\n",
       "      <th>50%</th>\n",
       "      <td>7.800000e+01</td>\n",
       "      <td>8.000000e+01</td>\n",
       "      <td>1.200000e+01</td>\n",
       "      <td>3.000000e+01</td>\n",
       "      <td>4.000000e+00</td>\n",
       "      <td>3.100000e+01</td>\n",
       "      <td>8.100000e+00</td>\n",
       "      <td>3.500000e+01</td>\n",
       "      <td>9.100000e+01</td>\n",
       "      <td>7.300000e+01</td>\n",
       "    </tr>\n",
       "    <tr>\n",
       "      <th>75%</th>\n",
       "      <td>1.700000e+02</td>\n",
       "      <td>1.680000e+02</td>\n",
       "      <td>1.600000e+01</td>\n",
       "      <td>4.500000e+01</td>\n",
       "      <td>5.000000e+00</td>\n",
       "      <td>4.500000e+01</td>\n",
       "      <td>1.610000e+01</td>\n",
       "      <td>9.300000e+01</td>\n",
       "      <td>1.910000e+02</td>\n",
       "      <td>1.460000e+02</td>\n",
       "    </tr>\n",
       "    <tr>\n",
       "      <th>max</th>\n",
       "      <td>4.970000e+02</td>\n",
       "      <td>4.100000e+02</td>\n",
       "      <td>2.300000e+01</td>\n",
       "      <td>5.900000e+01</td>\n",
       "      <td>7.000000e+00</td>\n",
       "      <td>3.040000e+02</td>\n",
       "      <td>6.830000e+01</td>\n",
       "      <td>1.914000e+03</td>\n",
       "      <td>2.398000e+03</td>\n",
       "      <td>1.837000e+03</td>\n",
       "    </tr>\n",
       "  </tbody>\n",
       "</table>\n",
       "</div>"
      ],
      "text/plain": [
       "       calculated_delay  delay_stop_departure          hour        minute  \\\n",
       "count      9.809330e+06          9.809330e+06  9.809330e+06  9.809330e+06   \n",
       "mean       1.017177e+02          1.053668e+02  1.169496e+01  2.952974e+01   \n",
       "std        1.149295e+02          1.065491e+02  5.094760e+00  1.727480e+01   \n",
       "min       -2.610000e+02         -2.040000e+02  2.000000e+00  0.000000e+00   \n",
       "25%        1.800000e+01          2.400000e+01  7.000000e+00  1.500000e+01   \n",
       "50%        7.800000e+01          8.000000e+01  1.200000e+01  3.000000e+01   \n",
       "75%        1.700000e+02          1.680000e+02  1.600000e+01  4.500000e+01   \n",
       "max        4.970000e+02          4.100000e+02  2.300000e+01  5.900000e+01   \n",
       "\n",
       "        day_of_week         speed  distance_traveled    trip_delay  \\\n",
       "count  9.809330e+06  9.809330e+06       9.809330e+06  9.809330e+06   \n",
       "mean   3.606374e+00  3.002444e+01       1.133457e+01  6.337520e+01   \n",
       "std    1.806250e+00  2.265729e+01       1.088599e+01  8.377568e+01   \n",
       "min    1.000000e+00 -1.000000e+00       0.000000e+00 -1.570000e+02   \n",
       "25%    2.000000e+00  1.100000e+01       3.300000e+00  1.000000e+00   \n",
       "50%    4.000000e+00  3.100000e+01       8.100000e+00  3.500000e+01   \n",
       "75%    5.000000e+00  4.500000e+01       1.610000e+01  9.300000e+01   \n",
       "max    7.000000e+00  3.040000e+02       6.830000e+01  1.914000e+03   \n",
       "\n",
       "       section_last_delay  section_avg_delay  \n",
       "count        9.809330e+06       9.809330e+06  \n",
       "mean         1.362285e+02       1.018281e+02  \n",
       "std          1.730849e+02       1.055651e+02  \n",
       "min         -5.950000e+02      -2.930000e+02  \n",
       "25%          3.000000e+01       2.500000e+01  \n",
       "50%          9.100000e+01       7.300000e+01  \n",
       "75%          1.910000e+02       1.460000e+02  \n",
       "max          2.398000e+03       1.837000e+03  "
      ]
     },
     "execution_count": 13,
     "metadata": {},
     "output_type": "execute_result"
    }
   ],
   "source": [
    "df.describe()"
   ]
  },
  {
   "cell_type": "code",
   "execution_count": 23,
   "metadata": {},
   "outputs": [
    {
     "data": {
      "image/png": "[encoded data removed]",
      "text/plain": [
       "<Figure size 432x288 with 1 Axes>"
      ]
     },
     "metadata": {
      "needs_background": "light"
     },
     "output_type": "display_data"
    }
   ],
   "source": [
    "fig = sns.distplot(df['calculated_delay'], bins=20, kde = False, rug=True)\n",
    "fig.get_figure().savefig('calculated_delay_distribution_after.png')"
   ]
  },
  {
   "cell_type": "code",
   "execution_count": 29,
   "metadata": {},
   "outputs": [],
   "source": [
    "pl.close()"
   ]
  },
  {
   "cell_type": "code",
   "execution_count": 27,
   "metadata": {},
   "outputs": [
    {
     "data": {
      "image/png": "[encoded data removed]",
      "text/plain": [
       "<Figure size 432x288 with 1 Axes>"
      ]
     },
     "metadata": {
      "needs_background": "light"
     },
     "output_type": "display_data"
    }
   ],
   "source": [
    "fig = sns.distplot(df['delay_stop_departure'], bins=20, kde = False, rug=True)\n",
    "fig.get_figure().savefig('delay_stop_departure_distr_after.png')"
   ]
  },
  {
   "cell_type": "code",
   "execution_count": 5,
   "metadata": {},
   "outputs": [],
   "source": [
    "X = df.drop('delay_stop_departure', axis=1)\n",
    "y = df['delay_stop_departure']"
   ]
  },
  {
   "cell_type": "code",
   "execution_count": 6,
   "metadata": {},
   "outputs": [],
   "source": [
    "\n",
    "X_train, X_test, y_train, y_test = train_test_split(X, y, test_size=0.40)"
   ]
  },
  {
   "cell_type": "markdown",
   "metadata": {},
   "source": [
    "# Tree regressor"
   ]
  },
  {
   "cell_type": "code",
   "execution_count": 12,
   "metadata": {},
   "outputs": [
    {
     "name": "stdout",
     "output_type": "stream",
     "text": [
      "22.475358828139065;10.0;1701.3463507188153\n"
     ]
    }
   ],
   "source": [
    "clf = tree.DecisionTreeRegressor()\n",
    "clf.fit(X_train, y_train)\n",
    "y_pred = clf.predict(X_test)\n",
    "print('{};{};{}'.format(mean_absolute_error(y_test, y_pred), median_absolute_error(y_test, y_pred), mean_squared_error(y_test, y_pred)))"
   ]
  },
  {
   "cell_type": "code",
   "execution_count": null,
   "metadata": {},
   "outputs": [],
   "source": []
  },
  {
   "cell_type": "code",
   "execution_count": 13,
   "metadata": {},
   "outputs": [
    {
     "name": "stdout",
     "output_type": "stream",
     "text": [
      "n;mean_absolute_error;median_absolute_error;mean_squared_error\n",
      "1;52.396526864106946;42.695089630361196;4558.644288071018\n",
      "2;35.7475631746695;25.917842707802034;2660.6696724235717\n",
      "3;30.40864732177475;19.316845043814148;2178.719228136738\n",
      "4;27.61023521553049;17.18677955447295;1905.8517233488492\n",
      "5;26.211428079308305;15.343311899026496;1787.83263187458\n",
      "6;25.666405352653783;15.245629952216802;1723.7987794059197\n",
      "7;24.977727189176907;14.362835893486817;1666.8941220279228\n",
      "8;24.70741920204798;14.368955791218902;1627.8004700142947\n",
      "9;24.552840274089803;14.35472476472863;1595.658009791175\n",
      "10;24.338997288339492;14.351477250973147;1562.9201317099732\n",
      "11;24.091239824102825;14.194764546877224;1530.50731394911\n",
      "12;23.8515737023407;14.041595794031252;1497.015710157472\n",
      "13;23.63128489254406;13.982565379825658;1468.3844662292558\n",
      "14;23.371352305568195;13.810736026563376;1438.0966449066937\n"
     ]
    }
   ],
   "source": [
    "from sklearn import tree\n",
    "print('n;mean_absolute_error;median_absolute_error;mean_squared_error')\n",
    "for n in range(1,15):\n",
    "    clf = tree.DecisionTreeRegressor(max_depth=n)\n",
    "    clf.fit(X_train, y_train)\n",
    "    y_pred = clf.predict(X_test)\n",
    "    print('{};{};{};{}'.format(n,mean_absolute_error(y_test, y_pred), median_absolute_error(y_test, y_pred), mean_squared_error(y_test, y_pred)))"
   ]
  },
  {
   "cell_type": "code",
   "execution_count": 24,
   "metadata": {},
   "outputs": [
    {
     "name": "stdout",
     "output_type": "stream",
     "text": [
      "n;mean_absolute_error;median_absolute_error;mean_squared_error\n",
      "15;23.10098726090825;13.694183073955202;1407.144091884346\n",
      "16;22.867678386869027;13.544400144980074;1387.7614224077636\n",
      "17;22.630594434183116;13.370265151515127;1372.1519529059326\n",
      "18;22.400498567644245;13.189966433820194;1361.0857342405025\n",
      "19;22.19345792313317;12.968777103209021;1358.5476019278244\n",
      "20;22.02061832858087;12.753424657534254;1361.441434649544\n",
      "21;21.879117219782128;12.509895227008144;1371.518971262997\n",
      "22;21.78178338141676;12.282089552238801;1387.6490488745605\n",
      "23;21.72125966398723;12.025641025641029;1407.2997534267606\n",
      "24;21.71286440795633;11.833333333333336;1434.3987567886431\n"
     ]
    }
   ],
   "source": [
    "from sklearn import tree\n",
    "print('n;mean_absolute_error;median_absolute_error;mean_squared_error')\n",
    "for n in range(15,25):\n",
    "    clf = tree.DecisionTreeRegressor(max_depth=n)\n",
    "    clf.fit(X_train, y_train)\n",
    "    y_pred = clf.predict(X_test)\n",
    "    print('{};{};{};{}'.format(n,mean_absolute_error(y_test, y_pred), median_absolute_error(y_test, y_pred), mean_squared_error(y_test, y_pred)))"
   ]
  },
  {
   "cell_type": "code",
   "execution_count": 25,
   "metadata": {},
   "outputs": [
    {
     "name": "stdout",
     "output_type": "stream",
     "text": [
      "n;mean_absolute_error;median_absolute_error;mean_squared_error\n",
      "25;21.73569264072418;11.579999999999998;1464.5049559474323\n",
      "26;21.76019417511536;11.333333333333343;1489.8823829786566\n",
      "27;21.82547805785497;11.08923076923077;1519.1538238639578\n",
      "28;21.90693609958853;11.0;1549.7304556111103\n",
      "29;21.973350170777138;10.8840579710145;1570.5250293261638\n",
      "30;22.04506098967468;10.666666666666671;1592.157465801417\n"
     ]
    },
    {
     "ename": "KeyboardInterrupt",
     "evalue": "",
     "output_type": "error",
     "traceback": [
      "\u001b[0;31m---------------------------------------------------------------------------\u001b[0m",
      "\u001b[0;31mKeyboardInterrupt\u001b[0m                         Traceback (most recent call last)",
      "\u001b[0;32m<ipython-input-25-2bbca4f5f67a>\u001b[0m in \u001b[0;36m<module>\u001b[0;34m\u001b[0m\n\u001b[1;32m      3\u001b[0m \u001b[0;32mfor\u001b[0m \u001b[0mn\u001b[0m \u001b[0;32min\u001b[0m \u001b[0mrange\u001b[0m\u001b[0;34m(\u001b[0m\u001b[0;36m25\u001b[0m\u001b[0;34m,\u001b[0m\u001b[0;36m40\u001b[0m\u001b[0;34m)\u001b[0m\u001b[0;34m:\u001b[0m\u001b[0;34m\u001b[0m\u001b[0;34m\u001b[0m\u001b[0m\n\u001b[1;32m      4\u001b[0m     \u001b[0mclf\u001b[0m \u001b[0;34m=\u001b[0m \u001b[0mtree\u001b[0m\u001b[0;34m.\u001b[0m\u001b[0mDecisionTreeRegressor\u001b[0m\u001b[0;34m(\u001b[0m\u001b[0mmax_depth\u001b[0m\u001b[0;34m=\u001b[0m\u001b[0mn\u001b[0m\u001b[0;34m)\u001b[0m\u001b[0;34m\u001b[0m\u001b[0;34m\u001b[0m\u001b[0m\n\u001b[0;32m----> 5\u001b[0;31m     \u001b[0mclf\u001b[0m\u001b[0;34m.\u001b[0m\u001b[0mfit\u001b[0m\u001b[0;34m(\u001b[0m\u001b[0mX_train\u001b[0m\u001b[0;34m,\u001b[0m \u001b[0my_train\u001b[0m\u001b[0;34m)\u001b[0m\u001b[0;34m\u001b[0m\u001b[0;34m\u001b[0m\u001b[0m\n\u001b[0m\u001b[1;32m      6\u001b[0m     \u001b[0my_pred\u001b[0m \u001b[0;34m=\u001b[0m \u001b[0mclf\u001b[0m\u001b[0;34m.\u001b[0m\u001b[0mpredict\u001b[0m\u001b[0;34m(\u001b[0m\u001b[0mX_test\u001b[0m\u001b[0;34m)\u001b[0m\u001b[0;34m\u001b[0m\u001b[0;34m\u001b[0m\u001b[0m\n\u001b[1;32m      7\u001b[0m     \u001b[0mprint\u001b[0m\u001b[0;34m(\u001b[0m\u001b[0;34m'{};{};{};{}'\u001b[0m\u001b[0;34m.\u001b[0m\u001b[0mformat\u001b[0m\u001b[0;34m(\u001b[0m\u001b[0mn\u001b[0m\u001b[0;34m,\u001b[0m\u001b[0mmean_absolute_error\u001b[0m\u001b[0;34m(\u001b[0m\u001b[0my_test\u001b[0m\u001b[0;34m,\u001b[0m \u001b[0my_pred\u001b[0m\u001b[0;34m)\u001b[0m\u001b[0;34m,\u001b[0m \u001b[0mmedian_absolute_error\u001b[0m\u001b[0;34m(\u001b[0m\u001b[0my_test\u001b[0m\u001b[0;34m,\u001b[0m \u001b[0my_pred\u001b[0m\u001b[0;34m)\u001b[0m\u001b[0;34m,\u001b[0m \u001b[0mmean_squared_error\u001b[0m\u001b[0;34m(\u001b[0m\u001b[0my_test\u001b[0m\u001b[0;34m,\u001b[0m \u001b[0my_pred\u001b[0m\u001b[0;34m)\u001b[0m\u001b[0;34m)\u001b[0m\u001b[0;34m)\u001b[0m\u001b[0;34m\u001b[0m\u001b[0;34m\u001b[0m\u001b[0m\n",
      "\u001b[0;32m~/.local/lib/python3.6/site-packages/sklearn/tree/_classes.py\u001b[0m in \u001b[0;36mfit\u001b[0;34m(self, X, y, sample_weight, check_input, X_idx_sorted)\u001b[0m\n\u001b[1;32m   1224\u001b[0m             \u001b[0msample_weight\u001b[0m\u001b[0;34m=\u001b[0m\u001b[0msample_weight\u001b[0m\u001b[0;34m,\u001b[0m\u001b[0;34m\u001b[0m\u001b[0;34m\u001b[0m\u001b[0m\n\u001b[1;32m   1225\u001b[0m             \u001b[0mcheck_input\u001b[0m\u001b[0;34m=\u001b[0m\u001b[0mcheck_input\u001b[0m\u001b[0;34m,\u001b[0m\u001b[0;34m\u001b[0m\u001b[0;34m\u001b[0m\u001b[0m\n\u001b[0;32m-> 1226\u001b[0;31m             X_idx_sorted=X_idx_sorted)\n\u001b[0m\u001b[1;32m   1227\u001b[0m         \u001b[0;32mreturn\u001b[0m \u001b[0mself\u001b[0m\u001b[0;34m\u001b[0m\u001b[0;34m\u001b[0m\u001b[0m\n\u001b[1;32m   1228\u001b[0m \u001b[0;34m\u001b[0m\u001b[0m\n",
      "\u001b[0;32m~/.local/lib/python3.6/site-packages/sklearn/tree/_classes.py\u001b[0m in \u001b[0;36mfit\u001b[0;34m(self, X, y, sample_weight, check_input, X_idx_sorted)\u001b[0m\n\u001b[1;32m    365\u001b[0m                                            min_impurity_split)\n\u001b[1;32m    366\u001b[0m \u001b[0;34m\u001b[0m\u001b[0m\n\u001b[0;32m--> 367\u001b[0;31m         \u001b[0mbuilder\u001b[0m\u001b[0;34m.\u001b[0m\u001b[0mbuild\u001b[0m\u001b[0;34m(\u001b[0m\u001b[0mself\u001b[0m\u001b[0;34m.\u001b[0m\u001b[0mtree_\u001b[0m\u001b[0;34m,\u001b[0m \u001b[0mX\u001b[0m\u001b[0;34m,\u001b[0m \u001b[0my\u001b[0m\u001b[0;34m,\u001b[0m \u001b[0msample_weight\u001b[0m\u001b[0;34m,\u001b[0m \u001b[0mX_idx_sorted\u001b[0m\u001b[0;34m)\u001b[0m\u001b[0;34m\u001b[0m\u001b[0;34m\u001b[0m\u001b[0m\n\u001b[0m\u001b[1;32m    368\u001b[0m \u001b[0;34m\u001b[0m\u001b[0m\n\u001b[1;32m    369\u001b[0m         \u001b[0;32mif\u001b[0m \u001b[0mself\u001b[0m\u001b[0;34m.\u001b[0m\u001b[0mn_outputs_\u001b[0m \u001b[0;34m==\u001b[0m \u001b[0;36m1\u001b[0m \u001b[0;32mand\u001b[0m \u001b[0mis_classifier\u001b[0m\u001b[0;34m(\u001b[0m\u001b[0mself\u001b[0m\u001b[0;34m)\u001b[0m\u001b[0;34m:\u001b[0m\u001b[0;34m\u001b[0m\u001b[0;34m\u001b[0m\u001b[0m\n",
      "\u001b[0;31mKeyboardInterrupt\u001b[0m: "
     ]
    }
   ],
   "source": [
    "from sklearn import tree\n",
    "print('n;mean_absolute_error;median_absolute_error;mean_squared_error')\n",
    "for n in range(25,40):\n",
    "    clf = tree.DecisionTreeRegressor(max_depth=n)\n",
    "    clf.fit(X_train, y_train)\n",
    "    y_pred = clf.predict(X_test)\n",
    "    print('{};{};{};{}'.format(n,mean_absolute_error(y_test, y_pred), median_absolute_error(y_test, y_pred), mean_squared_error(y_test, y_pred)))"
   ]
  },
  {
   "cell_type": "code",
   "execution_count": 31,
   "metadata": {},
   "outputs": [],
   "source": [
    "pickle.dump(clf, open('./ML/decision_tree_regressor.model', 'wb'))"
   ]
  },
  {
   "cell_type": "markdown",
   "metadata": {},
   "source": [
    "# KNN regressor"
   ]
  },
  {
   "cell_type": "code",
   "execution_count": null,
   "metadata": {},
   "outputs": [
    {
     "name": "stdout",
     "output_type": "stream",
     "text": [
      "n;mean_absolute_error;median_absolute_error;mean_squared_error\n",
      "1;17.175460250598157;5.0;1242.2022148811386\n",
      "3;19.23400893163279;10.666666666666657;1092.6976991689435\n",
      "5;20.151534406529287;11.799999999999997;1115.2781719240766\n",
      "7;20.84957564452849;12.428571428571427;1149.4555481404757\n",
      "9;21.35224837532794;12.888888888888886;1179.9872158306632\n",
      "11;21.68554438849174;13.181818181818182;1205.6431650903482\n",
      "13;21.923544923361405;13.30769230769232;1226.507918023245\n"
     ]
    }
   ],
   "source": [
    "print('n;mean_absolute_error;median_absolute_error;mean_squared_error')\n",
    "for n in range(1,16,2):\n",
    "    neigh = KNeighborsRegressor(n_neighbors=n)\n",
    "    neigh.fit(X_train, y_train)\n",
    "    y_pred = neigh.predict(X_test)\n",
    "    print('{};{};{};{}'.format(n,mean_absolute_error(y_test, y_pred), median_absolute_error(y_test, y_pred), mean_squared_error(y_test, y_pred)))"
   ]
  },
  {
   "cell_type": "code",
   "execution_count": 15,
   "metadata": {},
   "outputs": [
    {
     "name": "stdout",
     "output_type": "stream",
     "text": [
      "n;mean_absolute_error;median_absolute_error;mean_squared_error\n",
      "1;17.17202321667229;5.0;1242.4057797525418\n",
      "11;21.67816708916179;13.181818181818182;1206.242772402136\n",
      "21;22.4722359684485;13.714285714285708;1285.823372923297\n",
      "31;22.816905501717372;13.83870967741936;1330.4399048457137\n",
      "41;23.023787638165178;13.902439024390247;1359.7999130769322\n",
      "51;23.170047756454675;13.941176470588236;1381.2149776947183\n",
      "61;23.278222967484957;13.967213114754102;1398.1908155668966\n",
      "71;23.36846746708215;14.0;1412.1806438407255\n"
     ]
    },
    {
     "ename": "KeyboardInterrupt",
     "evalue": "",
     "output_type": "error",
     "traceback": [
      "\u001b[0;31m---------------------------------------------------------------------------\u001b[0m",
      "\u001b[0;31mKeyboardInterrupt\u001b[0m                         Traceback (most recent call last)",
      "\u001b[0;32m<ipython-input-15-9fa7b512150c>\u001b[0m in \u001b[0;36m<module>\u001b[0;34m\u001b[0m\n\u001b[1;32m      3\u001b[0m     \u001b[0mneigh\u001b[0m \u001b[0;34m=\u001b[0m \u001b[0mKNeighborsRegressor\u001b[0m\u001b[0;34m(\u001b[0m\u001b[0mn_neighbors\u001b[0m\u001b[0;34m=\u001b[0m\u001b[0mn\u001b[0m\u001b[0;34m)\u001b[0m\u001b[0;34m\u001b[0m\u001b[0;34m\u001b[0m\u001b[0m\n\u001b[1;32m      4\u001b[0m     \u001b[0mneigh\u001b[0m\u001b[0;34m.\u001b[0m\u001b[0mfit\u001b[0m\u001b[0;34m(\u001b[0m\u001b[0mX_train\u001b[0m\u001b[0;34m,\u001b[0m \u001b[0my_train\u001b[0m\u001b[0;34m)\u001b[0m\u001b[0;34m\u001b[0m\u001b[0;34m\u001b[0m\u001b[0m\n\u001b[0;32m----> 5\u001b[0;31m     \u001b[0my_pred\u001b[0m \u001b[0;34m=\u001b[0m \u001b[0mneigh\u001b[0m\u001b[0;34m.\u001b[0m\u001b[0mpredict\u001b[0m\u001b[0;34m(\u001b[0m\u001b[0mX_test\u001b[0m\u001b[0;34m)\u001b[0m\u001b[0;34m\u001b[0m\u001b[0;34m\u001b[0m\u001b[0m\n\u001b[0m\u001b[1;32m      6\u001b[0m     \u001b[0mprint\u001b[0m\u001b[0;34m(\u001b[0m\u001b[0;34m'{};{};{};{}'\u001b[0m\u001b[0;34m.\u001b[0m\u001b[0mformat\u001b[0m\u001b[0;34m(\u001b[0m\u001b[0mn\u001b[0m\u001b[0;34m,\u001b[0m\u001b[0mmean_absolute_error\u001b[0m\u001b[0;34m(\u001b[0m\u001b[0my_test\u001b[0m\u001b[0;34m,\u001b[0m \u001b[0my_pred\u001b[0m\u001b[0;34m)\u001b[0m\u001b[0;34m,\u001b[0m \u001b[0mmedian_absolute_error\u001b[0m\u001b[0;34m(\u001b[0m\u001b[0my_test\u001b[0m\u001b[0;34m,\u001b[0m \u001b[0my_pred\u001b[0m\u001b[0;34m)\u001b[0m\u001b[0;34m,\u001b[0m \u001b[0mmean_squared_error\u001b[0m\u001b[0;34m(\u001b[0m\u001b[0my_test\u001b[0m\u001b[0;34m,\u001b[0m \u001b[0my_pred\u001b[0m\u001b[0;34m)\u001b[0m\u001b[0;34m)\u001b[0m\u001b[0;34m)\u001b[0m\u001b[0;34m\u001b[0m\u001b[0;34m\u001b[0m\u001b[0m\n",
      "\u001b[0;32m~/.local/lib/python3.6/site-packages/sklearn/neighbors/_regression.py\u001b[0m in \u001b[0;36mpredict\u001b[0;34m(self, X)\u001b[0m\n\u001b[1;32m    172\u001b[0m         \u001b[0mX\u001b[0m \u001b[0;34m=\u001b[0m \u001b[0mcheck_array\u001b[0m\u001b[0;34m(\u001b[0m\u001b[0mX\u001b[0m\u001b[0;34m,\u001b[0m \u001b[0maccept_sparse\u001b[0m\u001b[0;34m=\u001b[0m\u001b[0;34m'csr'\u001b[0m\u001b[0;34m)\u001b[0m\u001b[0;34m\u001b[0m\u001b[0;34m\u001b[0m\u001b[0m\n\u001b[1;32m    173\u001b[0m \u001b[0;34m\u001b[0m\u001b[0m\n\u001b[0;32m--> 174\u001b[0;31m         \u001b[0mneigh_dist\u001b[0m\u001b[0;34m,\u001b[0m \u001b[0mneigh_ind\u001b[0m \u001b[0;34m=\u001b[0m \u001b[0mself\u001b[0m\u001b[0;34m.\u001b[0m\u001b[0mkneighbors\u001b[0m\u001b[0;34m(\u001b[0m\u001b[0mX\u001b[0m\u001b[0;34m)\u001b[0m\u001b[0;34m\u001b[0m\u001b[0;34m\u001b[0m\u001b[0m\n\u001b[0m\u001b[1;32m    175\u001b[0m \u001b[0;34m\u001b[0m\u001b[0m\n\u001b[1;32m    176\u001b[0m         \u001b[0mweights\u001b[0m \u001b[0;34m=\u001b[0m \u001b[0m_get_weights\u001b[0m\u001b[0;34m(\u001b[0m\u001b[0mneigh_dist\u001b[0m\u001b[0;34m,\u001b[0m \u001b[0mself\u001b[0m\u001b[0;34m.\u001b[0m\u001b[0mweights\u001b[0m\u001b[0;34m)\u001b[0m\u001b[0;34m\u001b[0m\u001b[0;34m\u001b[0m\u001b[0m\n",
      "\u001b[0;32m~/.local/lib/python3.6/site-packages/sklearn/neighbors/_base.py\u001b[0m in \u001b[0;36mkneighbors\u001b[0;34m(self, X, n_neighbors, return_distance)\u001b[0m\n\u001b[1;32m    669\u001b[0m             \u001b[0;32mif\u001b[0m \u001b[0mreturn_distance\u001b[0m\u001b[0;34m:\u001b[0m\u001b[0;34m\u001b[0m\u001b[0;34m\u001b[0m\u001b[0m\n\u001b[1;32m    670\u001b[0m                 \u001b[0mneigh_dist\u001b[0m\u001b[0;34m,\u001b[0m \u001b[0mneigh_ind\u001b[0m \u001b[0;34m=\u001b[0m \u001b[0mzip\u001b[0m\u001b[0;34m(\u001b[0m\u001b[0;34m*\u001b[0m\u001b[0mchunked_results\u001b[0m\u001b[0;34m)\u001b[0m\u001b[0;34m\u001b[0m\u001b[0;34m\u001b[0m\u001b[0m\n\u001b[0;32m--> 671\u001b[0;31m                 \u001b[0mresults\u001b[0m \u001b[0;34m=\u001b[0m \u001b[0mnp\u001b[0m\u001b[0;34m.\u001b[0m\u001b[0mvstack\u001b[0m\u001b[0;34m(\u001b[0m\u001b[0mneigh_dist\u001b[0m\u001b[0;34m)\u001b[0m\u001b[0;34m,\u001b[0m \u001b[0mnp\u001b[0m\u001b[0;34m.\u001b[0m\u001b[0mvstack\u001b[0m\u001b[0;34m(\u001b[0m\u001b[0mneigh_ind\u001b[0m\u001b[0;34m)\u001b[0m\u001b[0;34m\u001b[0m\u001b[0;34m\u001b[0m\u001b[0m\n\u001b[0m\u001b[1;32m    672\u001b[0m             \u001b[0;32melse\u001b[0m\u001b[0;34m:\u001b[0m\u001b[0;34m\u001b[0m\u001b[0;34m\u001b[0m\u001b[0m\n\u001b[1;32m    673\u001b[0m                 \u001b[0mresults\u001b[0m \u001b[0;34m=\u001b[0m \u001b[0mnp\u001b[0m\u001b[0;34m.\u001b[0m\u001b[0mvstack\u001b[0m\u001b[0;34m(\u001b[0m\u001b[0mchunked_results\u001b[0m\u001b[0;34m)\u001b[0m\u001b[0;34m\u001b[0m\u001b[0;34m\u001b[0m\u001b[0m\n",
      "\u001b[0;32m<__array_function__ internals>\u001b[0m in \u001b[0;36mvstack\u001b[0;34m(*args, **kwargs)\u001b[0m\n",
      "\u001b[0;32m~/.local/lib/python3.6/site-packages/numpy/core/shape_base.py\u001b[0m in \u001b[0;36mvstack\u001b[0;34m(tup)\u001b[0m\n\u001b[1;32m    281\u001b[0m     \u001b[0;32mif\u001b[0m \u001b[0;32mnot\u001b[0m \u001b[0misinstance\u001b[0m\u001b[0;34m(\u001b[0m\u001b[0marrs\u001b[0m\u001b[0;34m,\u001b[0m \u001b[0mlist\u001b[0m\u001b[0;34m)\u001b[0m\u001b[0;34m:\u001b[0m\u001b[0;34m\u001b[0m\u001b[0;34m\u001b[0m\u001b[0m\n\u001b[1;32m    282\u001b[0m         \u001b[0marrs\u001b[0m \u001b[0;34m=\u001b[0m \u001b[0;34m[\u001b[0m\u001b[0marrs\u001b[0m\u001b[0;34m]\u001b[0m\u001b[0;34m\u001b[0m\u001b[0;34m\u001b[0m\u001b[0m\n\u001b[0;32m--> 283\u001b[0;31m     \u001b[0;32mreturn\u001b[0m \u001b[0m_nx\u001b[0m\u001b[0;34m.\u001b[0m\u001b[0mconcatenate\u001b[0m\u001b[0;34m(\u001b[0m\u001b[0marrs\u001b[0m\u001b[0;34m,\u001b[0m \u001b[0;36m0\u001b[0m\u001b[0;34m)\u001b[0m\u001b[0;34m\u001b[0m\u001b[0;34m\u001b[0m\u001b[0m\n\u001b[0m\u001b[1;32m    284\u001b[0m \u001b[0;34m\u001b[0m\u001b[0m\n\u001b[1;32m    285\u001b[0m \u001b[0;34m\u001b[0m\u001b[0m\n",
      "\u001b[0;32m<__array_function__ internals>\u001b[0m in \u001b[0;36mconcatenate\u001b[0;34m(*args, **kwargs)\u001b[0m\n",
      "\u001b[0;31mKeyboardInterrupt\u001b[0m: "
     ]
    }
   ],
   "source": [
    "print('n;mean_absolute_error;median_absolute_error;mean_squared_error')\n",
    "for n in range(1,100,10):\n",
    "    neigh = KNeighborsRegressor(n_neighbors=n)\n",
    "    neigh.fit(X_train, y_train)\n",
    "    y_pred = neigh.predict(X_test)\n",
    "    print('{};{};{};{}'.format(n,mean_absolute_error(y_test, y_pred), median_absolute_error(y_test, y_pred), mean_squared_error(y_test, y_pred)))"
   ]
  },
  {
   "cell_type": "code",
   "execution_count": 10,
   "metadata": {},
   "outputs": [
    {
     "name": "stdout",
     "output_type": "stream",
     "text": [
      "22.467556803423015\n",
      "10.0\n"
     ]
    }
   ],
   "source": [
    "\n"
   ]
  },
  {
   "cell_type": "markdown",
   "metadata": {},
   "source": [
    "# Linear regression"
   ]
  },
  {
   "cell_type": "code",
   "execution_count": 29,
   "metadata": {},
   "outputs": [],
   "source": [
    "from sklearn import linear_model"
   ]
  },
  {
   "cell_type": "code",
   "execution_count": 33,
   "metadata": {},
   "outputs": [
    {
     "data": {
      "text/plain": [
       "LinearRegression(copy_X=True, fit_intercept=True, n_jobs=None, normalize=True)"
      ]
     },
     "execution_count": 33,
     "metadata": {},
     "output_type": "execute_result"
    }
   ],
   "source": [
    "reg = linear_model.LinearRegression(normalize=True)\n",
    "reg.fit(X_train, y_train)"
   ]
  },
  {
   "cell_type": "code",
   "execution_count": 34,
   "metadata": {},
   "outputs": [],
   "source": [
    "y_pred_lin_reg = reg.predict(X_test)"
   ]
  },
  {
   "cell_type": "code",
   "execution_count": 35,
   "metadata": {},
   "outputs": [
    {
     "name": "stdout",
     "output_type": "stream",
     "text": [
      "28.402678572770427\n",
      "18.431057519559467\n",
      "1991.71954245067\n"
     ]
    }
   ],
   "source": [
    "print(mean_absolute_error(y_test, y_pred_lin_reg))\n",
    "print(median_absolute_error(y_test, y_pred_lin_reg))\n",
    "print(mean_squared_error(y_test, y_pred_lin_reg))"
   ]
  },
  {
   "cell_type": "code",
   "execution_count": 43,
   "metadata": {},
   "outputs": [
    {
     "data": {
      "text/plain": [
       "Ridge(alpha=0.9, copy_X=True, fit_intercept=True, max_iter=None,\n",
       "      normalize=False, random_state=None, solver='auto', tol=0.001)"
      ]
     },
     "execution_count": 43,
     "metadata": {},
     "output_type": "execute_result"
    }
   ],
   "source": [
    "reg = linear_model.Ridge(alpha=.9)\n",
    "reg.fit(X_train, y_train)"
   ]
  },
  {
   "cell_type": "code",
   "execution_count": 44,
   "metadata": {},
   "outputs": [],
   "source": [
    "y_pred_lin_reg = reg.predict(X_test)"
   ]
  },
  {
   "cell_type": "code",
   "execution_count": 45,
   "metadata": {},
   "outputs": [
    {
     "name": "stdout",
     "output_type": "stream",
     "text": [
      "28.402678572794308\n",
      "18.431057516928362\n",
      "1991.7195424487845\n"
     ]
    }
   ],
   "source": [
    "print(mean_absolute_error(y_test, y_pred_lin_reg))\n",
    "print(median_absolute_error(y_test, y_pred_lin_reg))\n",
    "print(mean_squared_error(y_test, y_pred_lin_reg))"
   ]
  },
  {
   "cell_type": "code",
   "execution_count": 46,
   "metadata": {},
   "outputs": [
    {
     "data": {
      "text/plain": [
       "BayesianRidge(alpha_1=1e-06, alpha_2=1e-06, alpha_init=None,\n",
       "              compute_score=False, copy_X=True, fit_intercept=True,\n",
       "              lambda_1=1e-06, lambda_2=1e-06, lambda_init=None, n_iter=300,\n",
       "              normalize=False, tol=0.001, verbose=False)"
      ]
     },
     "execution_count": 46,
     "metadata": {},
     "output_type": "execute_result"
    }
   ],
   "source": [
    "clf = linear_model.BayesianRidge()\n",
    "clf.fit(X_train, y_train)"
   ]
  },
  {
   "cell_type": "code",
   "execution_count": 49,
   "metadata": {},
   "outputs": [],
   "source": [
    "y_pred_lin_reg = clf.predict(X_test)"
   ]
  },
  {
   "cell_type": "code",
   "execution_count": 50,
   "metadata": {},
   "outputs": [
    {
     "name": "stdout",
     "output_type": "stream",
     "text": [
      "28.402679179387626\n",
      "18.431091591046126\n",
      "1991.7194911704557\n"
     ]
    }
   ],
   "source": [
    "print(mean_absolute_error(y_test, y_pred_lin_reg))\n",
    "print(median_absolute_error(y_test, y_pred_lin_reg))\n",
    "print(mean_squared_error(y_test, y_pred_lin_reg))"
   ]
  },
  {
   "cell_type": "markdown",
   "metadata": {},
   "source": [
    "# Gradient boosting regressor"
   ]
  },
  {
   "cell_type": "code",
   "execution_count": 15,
   "metadata": {},
   "outputs": [
    {
     "name": "stdout",
     "output_type": "stream",
     "text": [
      "      Iter       Train Loss   Remaining Time \n",
      "         1       10062.8815            7.37m\n",
      "         2        9002.8105            7.26m\n",
      "         3        8102.7757            7.14m\n",
      "         4        7348.1632            7.08m\n",
      "         5        6696.3374            7.01m\n",
      "         6        6144.5510            6.93m\n",
      "         7        5661.9811            6.86m\n",
      "         8        5250.2580            6.79m\n",
      "         9        4887.3888            6.74m\n",
      "        10        4576.1085            6.67m\n",
      "        20        2892.4490            5.91m\n",
      "        30        2312.3942            5.17m\n",
      "        40        2069.1676            4.44m\n",
      "        50        1953.7955            3.69m\n",
      "        60        1895.9279            2.95m\n",
      "        70        1865.7500            2.21m\n",
      "        80        1847.2643            1.47m\n",
      "        90        1832.8829           44.01s\n",
      "       100        1821.4785            0.00s\n"
     ]
    }
   ],
   "source": [
    "\n",
    "est = GradientBoostingRegressor(n_estimators=100, learning_rate=0.1, max_depth=1, random_state=0, loss='ls', verbose=True).fit(X_train, y_train)"
   ]
  },
  {
   "cell_type": "code",
   "execution_count": 33,
   "metadata": {},
   "outputs": [],
   "source": [
    "pickle.dump(est, open('./ML/GradientBoostingRegressor.model', 'wb'))"
   ]
  },
  {
   "cell_type": "code",
   "execution_count": 16,
   "metadata": {},
   "outputs": [],
   "source": [
    "y_pred_grad_boost = est.predict(X_test)"
   ]
  },
  {
   "cell_type": "code",
   "execution_count": 17,
   "metadata": {},
   "outputs": [
    {
     "name": "stdout",
     "output_type": "stream",
     "text": [
      "26.87183879682102\n",
      "16.82312707151108\n"
     ]
    }
   ],
   "source": [
    "print(mean_absolute_error(y_test, y_pred_grad_boost))\n",
    "print(median_absolute_error(y_test, y_pred_grad_boost))"
   ]
  },
  {
   "cell_type": "code",
   "execution_count": 18,
   "metadata": {},
   "outputs": [
    {
     "data": {
      "text/plain": [
       "AdaBoostRegressor(base_estimator=None, learning_rate=1.0, loss='square',\n",
       "                  n_estimators=50, random_state=None)"
      ]
     },
     "execution_count": 18,
     "metadata": {},
     "output_type": "execute_result"
    }
   ],
   "source": [
    "\n",
    "ada_boost_reg = AdaBoostRegressor(loss='square')\n",
    "ada_boost_reg.fit(X_train, y_train)"
   ]
  },
  {
   "cell_type": "code",
   "execution_count": 34,
   "metadata": {},
   "outputs": [],
   "source": [
    "pickle.dump(ada_boost_reg, open('./ML/AdaBoostRegressor.model', 'wb'))"
   ]
  },
  {
   "cell_type": "markdown",
   "metadata": {},
   "source": [
    "# ADA boost regressor"
   ]
  },
  {
   "cell_type": "code",
   "execution_count": 21,
   "metadata": {},
   "outputs": [],
   "source": [
    "y_pred_ada_boost = ada_boost_reg.predict(X_test)"
   ]
  },
  {
   "cell_type": "code",
   "execution_count": 22,
   "metadata": {},
   "outputs": [
    {
     "name": "stdout",
     "output_type": "stream",
     "text": [
      "74.79193155762712\n",
      "63.54510503280004\n"
     ]
    }
   ],
   "source": [
    "print(mean_absolute_error(y_test, y_pred_ada_boost))\n",
    "print(median_absolute_error(y_test, y_pred_ada_boost))"
   ]
  },
  {
   "cell_type": "markdown",
   "metadata": {},
   "source": [
    "# Neural network"
   ]
  },
  {
   "cell_type": "code",
   "execution_count": 18,
   "metadata": {},
   "outputs": [
    {
     "name": "stdout",
     "output_type": "stream",
     "text": [
      "Iteration 1, loss = 919.78161289\n",
      "Iteration 2, loss = 870.92511823\n",
      "Iteration 3, loss = 867.56004125\n",
      "Iteration 4, loss = 865.26721097\n",
      "Iteration 5, loss = 863.25831776\n",
      "Iteration 6, loss = 861.72080759\n",
      "Iteration 7, loss = 860.43953181\n",
      "Iteration 8, loss = 859.30390661\n",
      "Iteration 9, loss = 858.37279277\n",
      "Iteration 10, loss = 857.65232223\n",
      "Iteration 11, loss = 856.85088143\n",
      "Iteration 12, loss = 856.29471377\n",
      "Iteration 13, loss = 855.67558563\n",
      "Iteration 14, loss = 855.23809091\n",
      "Iteration 15, loss = 854.88635257\n",
      "Iteration 16, loss = 854.35874005\n",
      "Iteration 17, loss = 854.03183950\n"
     ]
    },
    {
     "name": "stderr",
     "output_type": "stream",
     "text": [
      "/home/kerb/.local/lib/python3.6/site-packages/sklearn/neural_network/_multilayer_perceptron.py:573: UserWarning:\n",
      "\n",
      "Training interrupted by user.\n",
      "\n"
     ]
    },
    {
     "data": {
      "text/plain": [
       "MLPRegressor(activation='relu', alpha=0.0001, batch_size='auto', beta_1=0.9,\n",
       "             beta_2=0.999, early_stopping=False, epsilon=1e-08,\n",
       "             hidden_layer_sizes=5, learning_rate='constant',\n",
       "             learning_rate_init=0.001, max_fun=15000, max_iter=200,\n",
       "             momentum=0.9, n_iter_no_change=10, nesterovs_momentum=True,\n",
       "             power_t=0.5, random_state=None, shuffle=True, solver='adam',\n",
       "             tol=0.0001, validation_fraction=0.1, verbose=True,\n",
       "             warm_start=False)"
      ]
     },
     "execution_count": 18,
     "metadata": {},
     "output_type": "execute_result"
    }
   ],
   "source": [
    "1 hidden lazer\n",
    "mlp_1h_layer = MLPRegressor(hidden_layer_sizes=(5), activation='relu', solver='adam', max_iter=200, verbose=True)\n",
    "mlp_1h_layer.fit(X_train,y_train)"
   ]
  },
  {
   "cell_type": "code",
   "execution_count": 13,
   "metadata": {
    "collapsed": true,
    "jupyter": {
     "outputs_hidden": true
    }
   },
   "outputs": [
    {
     "name": "stdout",
     "output_type": "stream",
     "text": [
      "Iteration 1, loss = 896.88517342\n",
      "Iteration 2, loss = 836.10482156\n",
      "Iteration 3, loss = 831.04679108\n",
      "Iteration 4, loss = 827.32197407\n",
      "Iteration 5, loss = 824.68208082\n",
      "Iteration 6, loss = 823.06584850\n",
      "Iteration 7, loss = 821.09353486\n",
      "Iteration 8, loss = 818.31058406\n",
      "Iteration 9, loss = 814.71534199\n",
      "Iteration 10, loss = 811.23785218\n",
      "Iteration 11, loss = 809.05754552\n",
      "Iteration 12, loss = 808.23045436\n",
      "Iteration 13, loss = 807.01857493\n",
      "Iteration 14, loss = 806.29692549\n",
      "Iteration 15, loss = 805.58054579\n",
      "Iteration 16, loss = 805.04175906\n",
      "Iteration 17, loss = 804.47446108\n",
      "Iteration 18, loss = 804.15554719\n",
      "Iteration 19, loss = 803.27421042\n",
      "Iteration 20, loss = 802.66718796\n",
      "Iteration 21, loss = 802.23180810\n",
      "Iteration 22, loss = 801.63599507\n",
      "Iteration 23, loss = 800.91182386\n",
      "Iteration 24, loss = 800.35572000\n",
      "Iteration 25, loss = 799.98215714\n",
      "Iteration 26, loss = 799.30047550\n",
      "Iteration 27, loss = 798.93823852\n",
      "Iteration 28, loss = 798.67535908\n",
      "Iteration 29, loss = 798.20698181\n",
      "Iteration 30, loss = 798.02272926\n",
      "Iteration 31, loss = 797.76245907\n",
      "Iteration 32, loss = 797.35198547\n",
      "Iteration 33, loss = 796.98077867\n",
      "Iteration 34, loss = 797.06417005\n",
      "Iteration 35, loss = 796.91143930\n",
      "Iteration 36, loss = 796.56467643\n",
      "Iteration 37, loss = 796.58623440\n",
      "Iteration 38, loss = 796.50935752\n",
      "Iteration 39, loss = 796.20700707\n",
      "Iteration 40, loss = 796.33462886\n",
      "Iteration 41, loss = 795.96491215\n",
      "Iteration 42, loss = 795.93254081\n",
      "Iteration 43, loss = 795.72322228\n",
      "Iteration 44, loss = 795.62736142\n",
      "Iteration 45, loss = 795.47811310\n",
      "Iteration 46, loss = 795.40448461\n",
      "Iteration 47, loss = 795.17145361\n",
      "Iteration 48, loss = 795.11546943\n",
      "Iteration 49, loss = 795.06642671\n",
      "Iteration 50, loss = 795.05240949\n",
      "Iteration 51, loss = 794.89000882\n",
      "Iteration 52, loss = 795.02997070\n",
      "Iteration 53, loss = 794.73813935\n",
      "Iteration 54, loss = 794.64157576\n",
      "Iteration 55, loss = 794.64426215\n",
      "Iteration 56, loss = 794.56125554\n",
      "Iteration 57, loss = 794.60033176\n",
      "Iteration 58, loss = 794.62819570\n",
      "Iteration 59, loss = 794.39994826\n",
      "Iteration 60, loss = 794.35630304\n",
      "Iteration 61, loss = 794.09591446\n",
      "Iteration 62, loss = 794.22324741\n",
      "Iteration 63, loss = 794.19718089\n",
      "Iteration 64, loss = 794.15635349\n",
      "Iteration 65, loss = 794.21891539\n",
      "Iteration 66, loss = 794.17538776\n",
      "Iteration 67, loss = 794.03116760\n",
      "Iteration 68, loss = 794.01178895\n",
      "Iteration 69, loss = 793.95644615\n",
      "Iteration 70, loss = 793.92482220\n",
      "Iteration 71, loss = 793.75501993\n",
      "Iteration 72, loss = 793.84394707\n",
      "Iteration 73, loss = 793.68924836\n",
      "Iteration 74, loss = 793.71512578\n",
      "Iteration 75, loss = 793.77542321\n",
      "Iteration 76, loss = 793.48188669\n",
      "Iteration 77, loss = 793.65162982\n",
      "Iteration 78, loss = 793.64249467\n",
      "Iteration 79, loss = 793.60935161\n",
      "Iteration 80, loss = 793.48981540\n",
      "Iteration 81, loss = 793.43499472\n",
      "Iteration 82, loss = 793.28663860\n",
      "Iteration 83, loss = 793.19336388\n",
      "Iteration 84, loss = 793.29584804\n",
      "Iteration 85, loss = 793.15810098\n",
      "Iteration 86, loss = 793.11772017\n",
      "Iteration 87, loss = 793.16215319\n",
      "Iteration 88, loss = 793.17696007\n",
      "Iteration 89, loss = 792.62169965\n",
      "Iteration 90, loss = 792.42879374\n",
      "Iteration 91, loss = 792.37094201\n",
      "Iteration 92, loss = 792.13895194\n",
      "Iteration 93, loss = 792.12119753\n",
      "Iteration 94, loss = 792.14600239\n",
      "Iteration 95, loss = 792.01446487\n",
      "Iteration 96, loss = 792.04041339\n",
      "Iteration 97, loss = 791.95059833\n",
      "Iteration 98, loss = 791.96148857\n",
      "Iteration 99, loss = 791.99892199\n",
      "Iteration 100, loss = 791.83354064\n",
      "Iteration 101, loss = 791.94460657\n",
      "Iteration 102, loss = 791.86139454\n",
      "Iteration 103, loss = 791.67100666\n",
      "Iteration 104, loss = 791.77359486\n",
      "Iteration 105, loss = 791.72668206\n",
      "Iteration 106, loss = 791.67046240\n",
      "Iteration 107, loss = 791.63959868\n",
      "Iteration 108, loss = 791.79613087\n",
      "Iteration 109, loss = 791.55771783\n",
      "Iteration 110, loss = 791.60321788\n",
      "Iteration 111, loss = 791.52007912\n",
      "Iteration 112, loss = 791.58968216\n",
      "Iteration 113, loss = 791.46366830\n",
      "Iteration 114, loss = 791.54100164\n",
      "Iteration 115, loss = 791.40844659\n",
      "Iteration 116, loss = 791.53479363\n",
      "Iteration 117, loss = 791.50169799\n",
      "Iteration 118, loss = 791.44526121\n",
      "Iteration 119, loss = 791.38344756\n",
      "Iteration 120, loss = 791.49743172\n",
      "Iteration 121, loss = 791.44167247\n",
      "Iteration 122, loss = 791.46460634\n",
      "Iteration 123, loss = 791.39786477\n",
      "Iteration 124, loss = 791.34557764\n",
      "Iteration 125, loss = 791.31667607\n",
      "Iteration 126, loss = 791.30140390\n",
      "Iteration 127, loss = 791.34927908\n",
      "Iteration 128, loss = 791.29574223\n",
      "Iteration 129, loss = 791.32703252\n",
      "Iteration 130, loss = 791.23685402\n",
      "Iteration 131, loss = 791.21244983\n",
      "Iteration 132, loss = 791.24309394\n",
      "Iteration 133, loss = 791.10691993\n",
      "Iteration 134, loss = 791.14454293\n",
      "Iteration 135, loss = 791.19111904\n",
      "Iteration 136, loss = 791.14738659\n",
      "Iteration 137, loss = 791.07701509\n",
      "Iteration 138, loss = 791.09171268\n",
      "Iteration 139, loss = 791.18585656\n",
      "Iteration 140, loss = 791.01724448\n",
      "Iteration 141, loss = 791.09843617\n",
      "Iteration 142, loss = 791.05182544\n",
      "Iteration 143, loss = 790.96961760\n",
      "Iteration 144, loss = 790.96820521\n",
      "Iteration 145, loss = 790.98527721\n",
      "Iteration 146, loss = 790.90460331\n",
      "Iteration 147, loss = 790.98129243\n",
      "Iteration 148, loss = 790.98181891\n",
      "Iteration 149, loss = 791.00468352\n",
      "Iteration 150, loss = 790.82184380\n",
      "Iteration 151, loss = 790.97466829\n",
      "Iteration 152, loss = 790.92303141\n",
      "Iteration 153, loss = 790.85803985\n",
      "Iteration 154, loss = 790.86099042\n",
      "Iteration 155, loss = 790.91571683\n",
      "Iteration 156, loss = 790.94660332\n",
      "Iteration 157, loss = 790.88759364\n",
      "Iteration 158, loss = 790.91559220\n",
      "Iteration 159, loss = 790.83869181\n",
      "Iteration 160, loss = 790.80468214\n",
      "Iteration 161, loss = 790.78569361\n",
      "Iteration 162, loss = 790.78133938\n",
      "Iteration 163, loss = 790.82651293\n",
      "Iteration 164, loss = 790.65497728\n",
      "Iteration 165, loss = 790.63956016\n",
      "Iteration 166, loss = 790.54689695\n",
      "Iteration 167, loss = 790.72158579\n",
      "Iteration 168, loss = 790.64214165\n",
      "Iteration 169, loss = 790.64353506\n",
      "Iteration 170, loss = 790.70205803\n",
      "Iteration 171, loss = 790.55738730\n",
      "Iteration 172, loss = 790.65369207\n",
      "Iteration 173, loss = 790.62938545\n",
      "Iteration 174, loss = 790.55987048\n",
      "Iteration 175, loss = 790.50892238\n",
      "Iteration 176, loss = 790.52157733\n",
      "Iteration 177, loss = 790.53273425\n",
      "Iteration 178, loss = 790.42736899\n",
      "Iteration 179, loss = 790.41376627\n",
      "Iteration 180, loss = 790.51313972\n",
      "Iteration 181, loss = 790.39823864\n",
      "Iteration 182, loss = 790.31234188\n",
      "Iteration 183, loss = 790.45133190\n",
      "Iteration 184, loss = 790.38380630\n",
      "Iteration 185, loss = 790.40594095\n",
      "Iteration 186, loss = 790.37278794\n",
      "Iteration 187, loss = 790.29076322\n",
      "Iteration 188, loss = 790.41165987\n",
      "Iteration 189, loss = 790.41918640\n",
      "Iteration 190, loss = 790.25135740\n",
      "Iteration 191, loss = 790.39976741\n",
      "Iteration 192, loss = 790.31990365\n",
      "Iteration 193, loss = 790.29542977\n",
      "Iteration 194, loss = 790.34658028\n",
      "Iteration 195, loss = 790.22865714\n",
      "Iteration 196, loss = 790.24819199\n",
      "Iteration 197, loss = 790.32732806\n",
      "Iteration 198, loss = 790.23164836\n",
      "Iteration 199, loss = 790.09093266\n",
      "Iteration 200, loss = 790.16302937\n",
      "Iteration 201, loss = 790.25914776\n",
      "Iteration 202, loss = 790.32252736\n",
      "Iteration 203, loss = 790.04339354\n",
      "Iteration 204, loss = 790.09173924\n",
      "Iteration 205, loss = 790.12861801\n",
      "Iteration 206, loss = 790.13481915\n",
      "Iteration 207, loss = 790.20906415\n",
      "Iteration 208, loss = 790.07261009\n",
      "Iteration 209, loss = 790.11494492\n",
      "Iteration 210, loss = 790.09298314\n",
      "Iteration 211, loss = 790.16257311\n",
      "Iteration 212, loss = 790.16292270\n",
      "Iteration 213, loss = 790.11778425\n",
      "Iteration 214, loss = 790.12933010\n",
      "Training loss did not improve more than tol=0.000100 for 10 consecutive epochs. Stopping.\n"
     ]
    },
    {
     "data": {
      "text/plain": [
       "MLPRegressor(activation='relu', alpha=0.0001, batch_size='auto', beta_1=0.9,\n",
       "             beta_2=0.999, early_stopping=False, epsilon=1e-08,\n",
       "             hidden_layer_sizes=(10, 5), learning_rate='constant',\n",
       "             learning_rate_init=0.001, max_fun=15000, max_iter=500,\n",
       "             momentum=0.9, n_iter_no_change=10, nesterovs_momentum=True,\n",
       "             power_t=0.5, random_state=None, shuffle=True, solver='adam',\n",
       "             tol=0.0001, validation_fraction=0.1, verbose=True,\n",
       "             warm_start=False)"
      ]
     },
     "execution_count": 13,
     "metadata": {},
     "output_type": "execute_result"
    }
   ],
   "source": [
    "# 2 hidden layers\n",
    "mlp = MLPRegressor(hidden_layer_sizes=(10,5), activation='relu', solver='adam', max_iter=100, verbose=True)\n",
    "mlp.fit(X_train,y_train)"
   ]
  },
  {
   "cell_type": "code",
   "execution_count": 14,
   "metadata": {},
   "outputs": [],
   "source": [
    "y_pred_nn = mlp.predict(X_test)"
   ]
  },
  {
   "cell_type": "code",
   "execution_count": 16,
   "metadata": {},
   "outputs": [
    {
     "name": "stdout",
     "output_type": "stream",
     "text": [
      "24.60833591371755\n",
      "14.488412114337557\n",
      "1576.2963050096637\n"
     ]
    }
   ],
   "source": [
    "print(mean_absolute_error(y_test, y_pred_nn))\n",
    "print(median_absolute_error(y_test, y_pred_nn))\n",
    "print(mean_squared_error(y_test, y_pred_nn))"
   ]
  },
  {
   "cell_type": "code",
   "execution_count": 19,
   "metadata": {
    "collapsed": true,
    "jupyter": {
     "outputs_hidden": true
    }
   },
   "outputs": [
    {
     "name": "stdout",
     "output_type": "stream",
     "text": [
      "Iteration 1, loss = 920.21067591\n",
      "Iteration 2, loss = 827.74133941\n",
      "Iteration 3, loss = 824.38678405\n",
      "Iteration 4, loss = 822.07191846\n",
      "Iteration 5, loss = 819.36172214\n",
      "Iteration 6, loss = 816.46997711\n",
      "Iteration 7, loss = 814.33182539\n",
      "Iteration 8, loss = 812.46412094\n",
      "Iteration 9, loss = 810.24274241\n",
      "Iteration 10, loss = 807.24193407\n",
      "Iteration 11, loss = 803.47286911\n",
      "Iteration 12, loss = 800.28122849\n",
      "Iteration 13, loss = 798.77490605\n",
      "Iteration 14, loss = 797.12941475\n",
      "Iteration 15, loss = 796.30681558\n",
      "Iteration 16, loss = 795.81158228\n",
      "Iteration 17, loss = 795.20300098\n",
      "Iteration 18, loss = 794.74527786\n",
      "Iteration 19, loss = 794.57654325\n",
      "Iteration 20, loss = 794.46259659\n",
      "Iteration 21, loss = 794.00320044\n",
      "Iteration 22, loss = 794.10357832\n",
      "Iteration 23, loss = 793.18683994\n",
      "Iteration 24, loss = 793.64557443\n",
      "Iteration 25, loss = 793.33717031\n",
      "Iteration 26, loss = 793.47438018\n",
      "Iteration 27, loss = 792.97615091\n",
      "Iteration 28, loss = 793.28506471\n",
      "Iteration 29, loss = 792.77714313\n",
      "Iteration 30, loss = 792.44862837\n",
      "Iteration 31, loss = 792.35032538\n",
      "Iteration 32, loss = 792.12052404\n",
      "Iteration 33, loss = 791.68886580\n",
      "Iteration 34, loss = 791.27700296\n",
      "Iteration 35, loss = 791.27882657\n",
      "Iteration 36, loss = 790.95642305\n",
      "Iteration 37, loss = 791.10449757\n",
      "Iteration 38, loss = 790.91172766\n",
      "Iteration 39, loss = 790.55447316\n",
      "Iteration 40, loss = 790.42733786\n",
      "Iteration 41, loss = 790.40667205\n",
      "Iteration 42, loss = 790.33901979\n",
      "Iteration 43, loss = 790.25983876\n",
      "Iteration 44, loss = 790.19289153\n",
      "Iteration 45, loss = 789.96579790\n",
      "Iteration 46, loss = 790.07541388\n",
      "Iteration 47, loss = 790.29497256\n",
      "Iteration 48, loss = 789.96329932\n",
      "Iteration 49, loss = 789.93263236\n",
      "Iteration 50, loss = 789.90614382\n",
      "Iteration 51, loss = 789.81371487\n",
      "Iteration 52, loss = 789.58290038\n",
      "Iteration 53, loss = 789.79368301\n",
      "Iteration 54, loss = 789.59648697\n",
      "Iteration 55, loss = 789.69224487\n",
      "Iteration 56, loss = 789.53704814\n",
      "Iteration 57, loss = 789.38149872\n",
      "Iteration 58, loss = 789.21591587\n",
      "Iteration 59, loss = 789.17235820\n",
      "Iteration 60, loss = 788.90501604\n",
      "Iteration 61, loss = 789.13578369\n",
      "Iteration 62, loss = 788.98760572\n",
      "Iteration 63, loss = 788.76647108\n",
      "Iteration 64, loss = 789.17133303\n",
      "Iteration 65, loss = 788.84021717\n",
      "Iteration 66, loss = 788.75004692\n",
      "Iteration 67, loss = 788.95185740\n",
      "Iteration 68, loss = 789.06156078\n",
      "Iteration 69, loss = 788.81863006\n",
      "Iteration 70, loss = 788.74507987\n",
      "Iteration 71, loss = 788.55977087\n",
      "Iteration 72, loss = 788.73759550\n",
      "Iteration 73, loss = 788.51905552\n",
      "Iteration 74, loss = 788.37124375\n",
      "Iteration 75, loss = 788.45687545\n",
      "Iteration 76, loss = 788.54283198\n",
      "Iteration 77, loss = 788.45923623\n",
      "Iteration 78, loss = 788.37368541\n",
      "Iteration 79, loss = 788.24734051\n",
      "Iteration 80, loss = 788.42565761\n",
      "Iteration 81, loss = 788.24354724\n",
      "Iteration 82, loss = 788.27153585\n",
      "Iteration 83, loss = 788.25658260\n",
      "Iteration 84, loss = 788.04402606\n",
      "Iteration 85, loss = 788.18881640\n",
      "Iteration 86, loss = 788.22038531\n",
      "Iteration 87, loss = 788.02295390\n",
      "Iteration 88, loss = 788.01227936\n",
      "Iteration 89, loss = 787.93455291\n",
      "Iteration 90, loss = 787.89953153\n",
      "Iteration 91, loss = 788.11378031\n",
      "Iteration 92, loss = 787.99150194\n",
      "Iteration 93, loss = 787.84405868\n",
      "Iteration 94, loss = 787.95737914\n",
      "Iteration 95, loss = 787.88332062\n",
      "Iteration 96, loss = 787.68695231\n",
      "Iteration 97, loss = 787.80511130\n",
      "Iteration 98, loss = 787.81762390\n",
      "Iteration 99, loss = 787.63518556\n",
      "Iteration 100, loss = 787.86018463\n"
     ]
    },
    {
     "name": "stderr",
     "output_type": "stream",
     "text": [
      "/home/kerb/.local/lib/python3.6/site-packages/sklearn/neural_network/_multilayer_perceptron.py:571: ConvergenceWarning:\n",
      "\n",
      "Stochastic Optimizer: Maximum iterations (100) reached and the optimization hasn't converged yet.\n",
      "\n"
     ]
    },
    {
     "data": {
      "text/plain": [
       "MLPRegressor(activation='relu', alpha=0.0001, batch_size='auto', beta_1=0.9,\n",
       "             beta_2=0.999, early_stopping=False, epsilon=1e-08,\n",
       "             hidden_layer_sizes=(10, 5, 3), learning_rate='constant',\n",
       "             learning_rate_init=0.001, max_fun=15000, max_iter=100,\n",
       "             momentum=0.9, n_iter_no_change=10, nesterovs_momentum=True,\n",
       "             power_t=0.5, random_state=None, shuffle=True, solver='adam',\n",
       "             tol=0.0001, validation_fraction=0.1, verbose=True,\n",
       "             warm_start=False)"
      ]
     },
     "execution_count": 19,
     "metadata": {},
     "output_type": "execute_result"
    }
   ],
   "source": [
    "# 3 hidden layers\n",
    "mlp_3h_layers = MLPRegressor(hidden_layer_sizes=(10, 5, 3), activation='relu', solver='adam', max_iter=100, verbose=True)\n",
    "mlp_3h_layers.fit(X_train,y_train)"
   ]
  },
  {
   "cell_type": "code",
   "execution_count": 22,
   "metadata": {},
   "outputs": [],
   "source": [
    "y_pred_nn_3h = mlp_3h_layers.predict(X_test)"
   ]
  },
  {
   "cell_type": "code",
   "execution_count": 23,
   "metadata": {},
   "outputs": [
    {
     "name": "stdout",
     "output_type": "stream",
     "text": [
      "24.32057371249346\n",
      "14.200736453773903\n",
      "1565.8072169370423\n"
     ]
    }
   ],
   "source": [
    "print(mean_absolute_error(y_test, y_pred_nn_3h))\n",
    "print(median_absolute_error(y_test, y_pred_nn_3h))\n",
    "print(mean_squared_error(y_test, y_pred_nn_3h))"
   ]
  },
  {
   "cell_type": "code",
   "execution_count": 26,
   "metadata": {
    "collapsed": true,
    "jupyter": {
     "outputs_hidden": true
    }
   },
   "outputs": [
    {
     "name": "stdout",
     "output_type": "stream",
     "text": [
      "Iteration 1, loss = 876.31221747\n",
      "Iteration 2, loss = 829.62562835\n",
      "Iteration 3, loss = 826.05174127\n",
      "Iteration 4, loss = 823.57759986\n",
      "Iteration 5, loss = 820.81208830\n",
      "Iteration 6, loss = 816.71443739\n",
      "Iteration 7, loss = 812.31290002\n",
      "Iteration 8, loss = 810.05878490\n",
      "Iteration 9, loss = 808.76323522\n",
      "Iteration 10, loss = 806.61506179\n",
      "Iteration 11, loss = 804.95220288\n",
      "Iteration 12, loss = 804.15665898\n",
      "Iteration 13, loss = 802.93698999\n",
      "Iteration 14, loss = 801.26855102\n",
      "Iteration 15, loss = 800.06712119\n",
      "Iteration 16, loss = 799.03707329\n",
      "Iteration 17, loss = 798.52100451\n",
      "Iteration 18, loss = 798.06156829\n",
      "Iteration 19, loss = 797.62290700\n",
      "Iteration 20, loss = 797.37693031\n",
      "Iteration 21, loss = 796.99568845\n",
      "Iteration 22, loss = 796.76764563\n",
      "Iteration 23, loss = 796.36266208\n",
      "Iteration 24, loss = 796.09035408\n",
      "Iteration 25, loss = 795.86312140\n",
      "Iteration 26, loss = 795.60023048\n",
      "Iteration 27, loss = 795.28933543\n",
      "Iteration 28, loss = 794.87308496\n",
      "Iteration 29, loss = 794.91506874\n",
      "Iteration 30, loss = 794.49722035\n",
      "Iteration 31, loss = 794.37560569\n",
      "Iteration 32, loss = 794.19073565\n",
      "Iteration 33, loss = 793.79071626\n",
      "Iteration 34, loss = 793.69026982\n",
      "Iteration 35, loss = 793.48562591\n",
      "Iteration 36, loss = 793.40485417\n",
      "Iteration 37, loss = 793.00853169\n",
      "Iteration 38, loss = 792.95973810\n",
      "Iteration 39, loss = 792.82541405\n",
      "Iteration 40, loss = 792.66429927\n",
      "Iteration 41, loss = 792.15784279\n",
      "Iteration 42, loss = 791.89645778\n",
      "Iteration 43, loss = 791.32780626\n",
      "Iteration 44, loss = 791.32581378\n",
      "Iteration 45, loss = 791.20320382\n",
      "Iteration 46, loss = 790.86399194\n",
      "Iteration 47, loss = 790.62933120\n",
      "Iteration 48, loss = 790.67053087\n",
      "Iteration 49, loss = 790.28463447\n",
      "Iteration 50, loss = 790.30068631\n",
      "Iteration 51, loss = 789.94934643\n",
      "Iteration 52, loss = 789.95373563\n",
      "Iteration 53, loss = 789.78457753\n",
      "Iteration 54, loss = 789.68755208\n",
      "Iteration 55, loss = 789.57383146\n",
      "Iteration 56, loss = 789.48526836\n",
      "Iteration 57, loss = 789.22705770\n",
      "Iteration 58, loss = 789.33473986\n",
      "Iteration 59, loss = 788.99222908\n",
      "Iteration 60, loss = 788.91033495\n",
      "Iteration 61, loss = 788.99601612\n",
      "Iteration 62, loss = 788.61645173\n",
      "Iteration 63, loss = 788.60278679\n",
      "Iteration 64, loss = 788.57142040\n",
      "Iteration 65, loss = 788.46017860\n",
      "Iteration 66, loss = 788.22207447\n",
      "Iteration 67, loss = 788.42106719\n",
      "Iteration 68, loss = 787.99318011\n",
      "Iteration 69, loss = 788.03945514\n",
      "Iteration 70, loss = 787.94993631\n",
      "Iteration 71, loss = 787.97672595\n",
      "Iteration 72, loss = 787.85702838\n",
      "Iteration 73, loss = 787.78279461\n",
      "Iteration 74, loss = 787.68467421\n",
      "Iteration 75, loss = 787.67097169\n",
      "Iteration 76, loss = 787.55593844\n",
      "Iteration 77, loss = 787.40168624\n",
      "Iteration 78, loss = 787.33529655\n",
      "Iteration 79, loss = 787.15583394\n",
      "Iteration 80, loss = 787.15344720\n",
      "Iteration 81, loss = 787.02529265\n",
      "Iteration 82, loss = 786.99528955\n",
      "Iteration 83, loss = 786.67950351\n",
      "Iteration 84, loss = 786.52902473\n",
      "Iteration 85, loss = 786.44435624\n",
      "Iteration 86, loss = 786.22221410\n",
      "Iteration 87, loss = 786.16697148\n",
      "Iteration 88, loss = 786.13499531\n",
      "Iteration 89, loss = 785.65703396\n",
      "Iteration 90, loss = 785.77106921\n",
      "Iteration 91, loss = 785.65434503\n",
      "Iteration 92, loss = 785.52903186\n",
      "Iteration 93, loss = 785.37355208\n",
      "Iteration 94, loss = 785.28188944\n",
      "Iteration 95, loss = 785.19045769\n",
      "Iteration 96, loss = 785.07876316\n",
      "Iteration 97, loss = 785.21579930\n",
      "Iteration 98, loss = 785.13525952\n",
      "Iteration 99, loss = 784.82405940\n",
      "Iteration 100, loss = 785.06404470\n",
      "Iteration 101, loss = 784.77890982\n",
      "Iteration 102, loss = 785.00015105\n",
      "Iteration 103, loss = 784.85679186\n",
      "Iteration 104, loss = 784.59995627\n",
      "Iteration 105, loss = 784.57785276\n",
      "Iteration 106, loss = 784.59227479\n",
      "Iteration 107, loss = 784.46139492\n",
      "Iteration 108, loss = 784.48609350\n",
      "Iteration 109, loss = 784.35200697\n",
      "Iteration 110, loss = 784.46188806\n",
      "Iteration 111, loss = 784.21831080\n",
      "Iteration 112, loss = 784.15485092\n",
      "Iteration 113, loss = 784.05112333\n",
      "Iteration 114, loss = 784.15309300\n",
      "Iteration 115, loss = 783.92633094\n",
      "Iteration 116, loss = 783.85305509\n",
      "Iteration 117, loss = 783.56219694\n",
      "Iteration 118, loss = 783.79928611\n",
      "Iteration 119, loss = 783.38488905\n",
      "Iteration 120, loss = 783.59320541\n",
      "Iteration 121, loss = 783.63698692\n",
      "Iteration 122, loss = 783.57808457\n",
      "Iteration 123, loss = 783.42384351\n",
      "Iteration 124, loss = 783.42428754\n",
      "Iteration 125, loss = 783.35616848\n",
      "Iteration 126, loss = 783.21184146\n",
      "Iteration 127, loss = 783.21841915\n",
      "Iteration 128, loss = 783.28686468\n",
      "Iteration 129, loss = 783.17668021\n",
      "Iteration 130, loss = 783.09245224\n",
      "Iteration 131, loss = 783.08244156\n",
      "Iteration 132, loss = 783.08812635\n",
      "Iteration 133, loss = 782.93324822\n",
      "Iteration 134, loss = 783.14370025\n",
      "Iteration 135, loss = 783.07317097\n",
      "Iteration 136, loss = 783.02440319\n",
      "Iteration 137, loss = 782.91723583\n",
      "Iteration 138, loss = 782.99781545\n",
      "Iteration 139, loss = 782.85576577\n",
      "Iteration 140, loss = 782.74463277\n",
      "Iteration 141, loss = 782.88213289\n",
      "Iteration 142, loss = 782.70498062\n",
      "Iteration 143, loss = 782.86325583\n",
      "Iteration 144, loss = 782.72232040\n",
      "Iteration 145, loss = 782.78420704\n",
      "Iteration 146, loss = 782.65957595\n",
      "Iteration 147, loss = 782.60203391\n",
      "Iteration 148, loss = 782.63042200\n",
      "Iteration 149, loss = 782.59915366\n",
      "Iteration 150, loss = 782.60527467\n",
      "Iteration 151, loss = 782.59936743\n",
      "Iteration 152, loss = 782.54396642\n",
      "Iteration 153, loss = 782.52000957\n",
      "Iteration 154, loss = 782.42485100\n",
      "Iteration 155, loss = 782.28033987\n",
      "Iteration 156, loss = 782.43217990\n",
      "Iteration 157, loss = 782.16433240\n",
      "Iteration 158, loss = 782.14109275\n",
      "Iteration 159, loss = 782.32315115\n",
      "Iteration 160, loss = 782.05735745\n",
      "Iteration 161, loss = 782.27233752\n",
      "Iteration 162, loss = 782.03803507\n",
      "Iteration 163, loss = 782.18044296\n",
      "Iteration 164, loss = 782.02665012\n",
      "Iteration 165, loss = 782.18825328\n",
      "Iteration 166, loss = 782.10580631\n",
      "Iteration 167, loss = 781.95888975\n",
      "Iteration 168, loss = 782.00946545\n",
      "Iteration 169, loss = 782.04506779\n",
      "Iteration 170, loss = 781.90280725\n",
      "Iteration 171, loss = 781.98409288\n",
      "Iteration 172, loss = 781.83488238\n",
      "Iteration 173, loss = 781.94279092\n",
      "Iteration 174, loss = 781.99062424\n",
      "Iteration 175, loss = 781.74467848\n",
      "Iteration 176, loss = 781.79601665\n",
      "Iteration 177, loss = 782.11283453\n",
      "Iteration 178, loss = 781.89630190\n",
      "Iteration 179, loss = 781.73812802\n",
      "Iteration 180, loss = 781.69674811\n",
      "Iteration 181, loss = 781.95334410\n",
      "Iteration 182, loss = 781.93366261\n",
      "Iteration 183, loss = 781.79232071\n",
      "Iteration 184, loss = 781.69033128\n",
      "Iteration 185, loss = 781.77664193\n",
      "Iteration 186, loss = 781.66774751\n",
      "Iteration 187, loss = 781.68882604\n",
      "Iteration 188, loss = 781.73063899\n",
      "Iteration 189, loss = 781.72810151\n",
      "Iteration 190, loss = 781.63486732\n",
      "Iteration 191, loss = 781.58609703\n",
      "Iteration 192, loss = 781.80600796\n",
      "Iteration 193, loss = 781.60004460\n",
      "Iteration 194, loss = 781.54459129\n",
      "Iteration 195, loss = 781.72828095\n",
      "Iteration 196, loss = 781.51577130\n",
      "Iteration 197, loss = 781.57521345\n",
      "Iteration 198, loss = 781.78087646\n",
      "Iteration 199, loss = 781.32609156\n",
      "Iteration 200, loss = 781.43342517\n"
     ]
    },
    {
     "name": "stderr",
     "output_type": "stream",
     "text": [
      "/home/kerb/.local/lib/python3.6/site-packages/sklearn/neural_network/_multilayer_perceptron.py:571: ConvergenceWarning:\n",
      "\n",
      "Stochastic Optimizer: Maximum iterations (200) reached and the optimization hasn't converged yet.\n",
      "\n"
     ]
    },
    {
     "data": {
      "text/plain": [
       "MLPRegressor(activation='relu', alpha=0.0001, batch_size='auto', beta_1=0.9,\n",
       "             beta_2=0.999, early_stopping=False, epsilon=1e-08,\n",
       "             hidden_layer_sizes=(10, 7, 5, 3), learning_rate='constant',\n",
       "             learning_rate_init=0.001, max_fun=15000, max_iter=200,\n",
       "             momentum=0.9, n_iter_no_change=10, nesterovs_momentum=True,\n",
       "             power_t=0.5, random_state=None, shuffle=True, solver='adam',\n",
       "             tol=0.0001, validation_fraction=0.1, verbose=True,\n",
       "             warm_start=False)"
      ]
     },
     "execution_count": 26,
     "metadata": {},
     "output_type": "execute_result"
    }
   ],
   "source": [
    "# 3 hidden layers\n",
    "mlp_4h_layers = MLPRegressor(hidden_layer_sizes=(10, 7, 5, 3), activation='relu', solver='adam', max_iter=200, verbose=True)\n",
    "mlp_4h_layers.fit(X_train,y_train)"
   ]
  },
  {
   "cell_type": "code",
   "execution_count": 27,
   "metadata": {},
   "outputs": [],
   "source": [
    "y_pred_nn_4h = mlp_4h_layers.predict(X_test)"
   ]
  },
  {
   "cell_type": "code",
   "execution_count": 28,
   "metadata": {},
   "outputs": [
    {
     "name": "stdout",
     "output_type": "stream",
     "text": [
      "24.93060758250108\n",
      "15.234262345823954\n",
      "1565.080445333145\n"
     ]
    }
   ],
   "source": [
    "print(mean_absolute_error(y_test, y_pred_nn_4h))\n",
    "print(median_absolute_error(y_test, y_pred_nn_4h))\n",
    "print(mean_squared_error(y_test, y_pred_nn_4h))"
   ]
  },
  {
   "cell_type": "markdown",
   "metadata": {},
   "source": [
    "# SVR"
   ]
  },
  {
   "cell_type": "code",
   "execution_count": null,
   "metadata": {},
   "outputs": [
    {
     "name": "stdout",
     "output_type": "stream",
     "text": [
      "[LibSVM]"
     ]
    }
   ],
   "source": [
    "clf_svr = svm.SVR(verbose=True)\n",
    "clf_svr.fit(X_train,y_train)"
   ]
  },
  {
   "cell_type": "code",
   "execution_count": null,
   "metadata": {},
   "outputs": [],
   "source": [
    "y_pred_svr = clf_svr.predict(X_test)"
   ]
  },
  {
   "cell_type": "code",
   "execution_count": null,
   "metadata": {},
   "outputs": [],
   "source": [
    "print(mean_absolute_error(y_test, y_pred_svr))\n",
    "print(median_absolute_error(y_test, y_pred_svr))\n",
    "print(mean_squared_error(y_test, y_pred_svr))"
   ]
  },
  {
   "cell_type": "code",
   "execution_count": null,
   "metadata": {},
   "outputs": [],
   "source": []
  }
 ],
 "metadata": {
  "kernelspec": {
   "display_name": "Python 3",
   "language": "python",
   "name": "python3"
  },
  "language_info": {
   "codemirror_mode": {
    "name": "ipython",
    "version": 3
   },
   "file_extension": ".py",
   "mimetype": "text/x-python",
   "name": "python",
   "nbconvert_exporter": "python",
   "pygments_lexer": "ipython3",
   "version": "3.6.9"
  }
 },
 "nbformat": 4,
 "nbformat_minor": 4
}
