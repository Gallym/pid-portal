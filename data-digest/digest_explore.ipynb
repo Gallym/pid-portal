{
 "cells": [
  {
   "cell_type": "code",
   "execution_count": 39,
   "metadata": {},
   "outputs": [],
   "source": [
    "import os \n",
    "import json\n",
    "import psycopg2"
   ]
  },
  {
   "cell_type": "code",
   "execution_count": 44,
   "metadata": {},
   "outputs": [],
   "source": [
    "#establishing connection to db\n",
    "conn = psycopg2.connect(\"host=10.0.0.4 port=5432 dbname=pid-portal user=postgres password=passwd\") \n",
    "cur = conn.cursor()"
   ]
  },
  {
   "cell_type": "code",
   "execution_count": 43,
   "metadata": {},
   "outputs": [
    {
     "ename": "InterfaceError",
     "evalue": "cursor already closed",
     "output_type": "error",
     "traceback": [
      "\u001b[0;31m---------------------------------------------------------------------------\u001b[0m",
      "\u001b[0;31mInterfaceError\u001b[0m                            Traceback (most recent call last)",
      "\u001b[0;32m<ipython-input-43-61fabf905ef8>\u001b[0m in \u001b[0;36m<module>\u001b[0;34m\u001b[0m\n\u001b[0;32m----> 1\u001b[0;31m \u001b[0mcur\u001b[0m\u001b[0;34m.\u001b[0m\u001b[0mexecute\u001b[0m\u001b[0;34m(\u001b[0m\u001b[0;34m'SELECT * FROM \"User\"'\u001b[0m\u001b[0;34m)\u001b[0m \u001b[0;31m#just simple select to check if connection is working\u001b[0m\u001b[0;34m\u001b[0m\u001b[0;34m\u001b[0m\u001b[0m\n\u001b[0m\u001b[1;32m      2\u001b[0m \u001b[0mcur\u001b[0m\u001b[0;34m.\u001b[0m\u001b[0mfetchone\u001b[0m\u001b[0;34m(\u001b[0m\u001b[0;34m)\u001b[0m\u001b[0;34m\u001b[0m\u001b[0;34m\u001b[0m\u001b[0m\n",
      "\u001b[0;31mInterfaceError\u001b[0m: cursor already closed"
     ]
    }
   ],
   "source": [
    "cur.execute('SELECT * FROM \"User\"') #just simple select to check if connection is working\n",
    "cur.fetchone()"
   ]
  },
  {
   "cell_type": "code",
   "execution_count": 42,
   "metadata": {},
   "outputs": [],
   "source": [
    "conn.close()"
   ]
  },
  {
   "cell_type": "markdown",
   "metadata": {},
   "source": [
    "# Vehicle positions\n"
   ]
  },
  {
   "cell_type": "code",
   "execution_count": 45,
   "metadata": {},
   "outputs": [],
   "source": [
    "def digest(file):\n",
    "    f = open(file, 'r')\n",
    "    data = [json.loads(line) for line in open(file, 'r')]\n",
    "    #df = pd.read_json(file, lines=True)\n",
    "    return data\n"
   ]
  },
  {
   "cell_type": "code",
   "execution_count": 46,
   "metadata": {},
   "outputs": [],
   "source": [
    "entries = [digest(entry) for entry in os.scandir('../../data/') if entry.is_file()]"
   ]
  },
  {
   "cell_type": "code",
   "execution_count": 47,
   "metadata": {},
   "outputs": [
    {
     "data": {
      "text/plain": [
       "{'trip': {'cis_agency_name': 'ABOUT ME',\n",
       "  'cis_id': '100166',\n",
       "  'cis_number': 96,\n",
       "  'cis_order': 5,\n",
       "  'cis_parent_route_name': '166',\n",
       "  'cis_real_agency_name': 'ABOUT ME',\n",
       "  'cis_short_name': '166',\n",
       "  'cis_vehicle_registration_number': 1935,\n",
       "  'gtfs_route_id': 'L166',\n",
       "  'gtfs_route_short_name': '166',\n",
       "  'gtfs_trip_id': '166_292_181001',\n",
       "  'id': '2019-08-12T19:09:00Z_100166_166_96',\n",
       "  'start_cis_stop_id': 59501,\n",
       "  'start_cis_stop_platform_code': 'B',\n",
       "  'start_time': '21:09:00',\n",
       "  'start_timestamp': '2019-08-12T19:09:00.000Z',\n",
       "  'vehicle_type': 3,\n",
       "  'wheelchair_accessible': True},\n",
       " 'last_position': {'bearing': 75,\n",
       "  'cis_last_stop_id': 59395,\n",
       "  'cis_last_stop_sequence': 33,\n",
       "  'delay': 269,\n",
       "  'delay_stop_arrival': None,\n",
       "  'delay_stop_departure': 284,\n",
       "  'gtfs_last_stop_id': None,\n",
       "  'gtfs_last_stop_sequence': None,\n",
       "  'gtfs_next_stop_id': 'U63Z1P',\n",
       "  'gtfs_next_stop_sequence': None,\n",
       "  'gtfs_shape_dist_traveled': '16.8',\n",
       "  'is_canceled': False,\n",
       "  'lat': '50.15097',\n",
       "  'lng': '14.51525',\n",
       "  'origin_time': '22:03:47',\n",
       "  'origin_timestamp': '2019-08-12T20:03:47.000Z',\n",
       "  'speed': 29,\n",
       "  'tracking': 2,\n",
       "  'trips_id': '2019-08-12T19:09:00Z_100166_166_96'}}"
      ]
     },
     "execution_count": 47,
     "metadata": {},
     "output_type": "execute_result"
    }
   ],
   "source": [
    "entries[0][2]['features'][4]['properties']\n"
   ]
  },
  {
   "cell_type": "code",
   "execution_count": 52,
   "metadata": {},
   "outputs": [
    {
     "name": "stdout",
     "output_type": "stream",
     "text": [
      "Executed 8718 entries for table Vehicle_position\n"
     ]
    }
   ],
   "source": [
    "i = 0\n",
    "for line in entries[0]:\n",
    "    for data in line['features']:\n",
    "        cur.execute(\"\"\"\n",
    "                INSERT INTO public.\"Vehicle_position\"(\n",
    "                route_id, \"timestamp\", bearing, calculated_delay, speed, longitude, latitude, vehicle_id, trip_id, is_canceled)\n",
    "                VALUES (%s, %s, %s, %s, %s, %s, %s, %s, %s, %s);\n",
    "                \"\"\",\n",
    "               (data['properties']['trip']['gtfs_route_id'],data['properties']['trip']['start_timestamp'], \n",
    "                data['properties']['last_position']['bearing'], data['properties']['last_position']['delay'],\n",
    "                data['properties']['last_position']['speed'], data['properties']['last_position']['lng'], data['properties']['last_position']['lat'],\n",
    "                data['properties']['trip']['cis_vehicle_registration_number'], data['properties']['trip']['gtfs_trip_id'], data['properties']['last_position']['is_canceled']\n",
    "               ))\n",
    "        #filling the vehicle table from the position data\n",
    "        cur.execute(\"\"\"\n",
    "        INSERT INTO public.\"Vehicle\"(\n",
    "\tvehicle_id, vehicle_type, agency)\n",
    "\tVALUES (%s, %s, %s)\n",
    "    ON CONFLICT (vehicle_id) DO UPDATE \n",
    "  SET vehicle_type = excluded.vehicle_type, \n",
    "  agency = excluded.agency\n",
    "    ;\n",
    "        \"\"\",\n",
    "            (data['properties']['trip']['cis_vehicle_registration_number'], data['properties']['trip']['vehicle_type'], data['properties']['trip']['cis_agency_name'])\n",
    "                   )\n",
    "        i += 1\n",
    "print('Executed {} entries for table Vehicle_position'.format(i))"
   ]
  },
  {
   "cell_type": "code",
   "execution_count": 53,
   "metadata": {},
   "outputs": [],
   "source": [
    "conn.commit()"
   ]
  },
  {
   "cell_type": "markdown",
   "metadata": {},
   "source": [
    "# Stops"
   ]
  },
  {
   "cell_type": "code",
   "execution_count": 54,
   "metadata": {},
   "outputs": [],
   "source": [
    "def get_bool_from_int_for_wheelchair(bool_val):\n",
    "    if bool_val == 1:\n",
    "        return \"1\"\n",
    "    else:\n",
    "        return \"0\""
   ]
  },
  {
   "cell_type": "code",
   "execution_count": 55,
   "metadata": {},
   "outputs": [],
   "source": [
    "def digest_stops(file):\n",
    "    f = open(file, 'r')\n",
    "    #data = [json.loads(line) for line in open(file, 'r')]\n",
    "    data = json.load(f)\n",
    "    return data"
   ]
  },
  {
   "cell_type": "code",
   "execution_count": 56,
   "metadata": {},
   "outputs": [],
   "source": [
    "entries = [digest_stops(entry) for entry in os.scandir('/mnt/d/data_diplomka/stops') if entry.is_file()]"
   ]
  },
  {
   "cell_type": "code",
   "execution_count": 57,
   "metadata": {},
   "outputs": [
    {
     "data": {
      "text/plain": [
       "{'level_id': '',\n",
       " 'location_type': 2,\n",
       " 'parent_station': 'U1000S1',\n",
       " 'platform_code': '',\n",
       " 'stop_code': None,\n",
       " 'stop_desc': None,\n",
       " 'stop_id': 'U1000S1E3',\n",
       " 'stop_lat': 50.12497,\n",
       " 'stop_lon': 14.51587,\n",
       " 'stop_name': 'Listova ul.',\n",
       " 'stop_timezone': None,\n",
       " 'stop_url': '',\n",
       " 'wheelchair_boarding': 1,\n",
       " 'zone_id': '',\n",
       " 'create_batch_id': None,\n",
       " 'created_at': '2019-09-26T03:00:21.913Z',\n",
       " 'created_by': None,\n",
       " 'update_batch_id': None,\n",
       " 'updated_at': '2019-09-26T03:00:21.913Z',\n",
       " 'updated_by': None}"
      ]
     },
     "execution_count": 57,
     "metadata": {},
     "output_type": "execute_result"
    }
   ],
   "source": [
    "entries[0]['features'][5]['properties']"
   ]
  },
  {
   "cell_type": "code",
   "execution_count": 61,
   "metadata": {},
   "outputs": [
    {
     "name": "stdout",
     "output_type": "stream",
     "text": [
      "Executed 1000 entries for table Stop\n"
     ]
    }
   ],
   "source": [
    "i = 0\n",
    "for a in entries[0]['features']:\n",
    "    \n",
    "    cur.execute(\"\"\"\n",
    "    INSERT INTO public.\"Stop\"(\n",
    "\tstop_id, name, latitude, longitude, zone_id, wheelchair_acc)\n",
    "\tVALUES (%s, %s, %s, %s, %s, %s);\n",
    "    \"\"\",(a['properties']['stop_id'], a['properties']['stop_name'], a['properties']['stop_lat'], a['properties']['stop_lon'], a['properties']['zone_id'], \n",
    "        get_bool_from_int_for_wheelchair(a['properties']['wheelchair_boarding'])\n",
    "        ))\n",
    "    i += 1\n",
    "print('Executed {} entries for table Stop'.format(i))"
   ]
  },
  {
   "cell_type": "code",
   "execution_count": 62,
   "metadata": {},
   "outputs": [],
   "source": [
    "conn.commit()"
   ]
  },
  {
   "cell_type": "markdown",
   "metadata": {},
   "source": [
    "# Routes"
   ]
  },
  {
   "cell_type": "code",
   "execution_count": 63,
   "metadata": {},
   "outputs": [],
   "source": [
    "def digest_routes(file):\n",
    "    f = open(file, 'r')\n",
    "    data = [json.loads(line) for line in open(file, 'r')]\n",
    "    #data = json.load(f)\n",
    "    return data"
   ]
  },
  {
   "cell_type": "code",
   "execution_count": 64,
   "metadata": {},
   "outputs": [],
   "source": [
    "entries = [digest_routes(entry) for entry in os.scandir('/mnt/d/data_diplomka/routes_test') if entry.is_file()]"
   ]
  },
  {
   "cell_type": "code",
   "execution_count": 65,
   "metadata": {},
   "outputs": [
    {
     "data": {
      "text/plain": [
       "{'shape_dist_traveled': 0.23124,\n",
       " 'shape_id': 'L1V2',\n",
       " 'shape_pt_lat': 50.09432,\n",
       " 'shape_pt_lon': 14.3907,\n",
       " 'shape_pt_sequence': 5}"
      ]
     },
     "execution_count": 65,
     "metadata": {},
     "output_type": "execute_result"
    }
   ],
   "source": [
    "entries[1][0]['features'][4]['properties']"
   ]
  },
  {
   "cell_type": "code",
   "execution_count": 68,
   "metadata": {},
   "outputs": [
    {
     "name": "stdout",
     "output_type": "stream",
     "text": [
      "Executed 785 entries for stops\n"
     ]
    }
   ],
   "source": [
    "i = 0\n",
    "for route in entries:\n",
    "    for point in route[0]['features']:\n",
    "        cur.execute(\"\"\"\n",
    "        INSERT INTO public.\"Route\"(\n",
    "        route_id, \"order\", distance, latitude, longitude, stop_id)\n",
    "        VALUES (%s, %s, %s, %s, %s, %s);\n",
    "        \"\"\", \n",
    "                    (point['properties']['shape_id'], point['properties']['shape_pt_sequence'], point['properties']['shape_dist_traveled'], point['properties']['shape_pt_lat'],\n",
    "                    point['properties']['shape_pt_lon'], '')\n",
    "                   )\n",
    "        i += 1\n",
    "        #this will update the route with stops by finding route points that are within 10cm from stop location\n",
    "cur.execute(\"\"\"\n",
    "        UPDATE \"Route\"\n",
    "        SET stop_id=subquery.stop_id\n",
    "            FROM (\n",
    "            select A.stop_id, B.route_id, B.order from \"Stop\" as A, \"Route\" as B where calculate_distance(A.latitude, A.longitude, B.latitude,B.longitude, 'K') < 0.01\n",
    "            ) AS subquery\n",
    "        WHERE \"Route\".route_id=subquery.route_id and \"Route\".order=subquery.order;\n",
    "        \"\"\")\n",
    "        \n",
    "print('Executed {} entries for stops'.format(i))"
   ]
  },
  {
   "cell_type": "code",
   "execution_count": 69,
   "metadata": {},
   "outputs": [],
   "source": [
    "conn.commit()"
   ]
  },
  {
   "cell_type": "markdown",
   "metadata": {},
   "source": [
    "# Trip"
   ]
  },
  {
   "cell_type": "code",
   "execution_count": 70,
   "metadata": {},
   "outputs": [],
   "source": [
    "def digest_trips(file):\n",
    "    f = open(file, 'r')\n",
    "    data = [json.loads(line) for line in open(file, 'r')]\n",
    "    #data = json.load(f)\n",
    "    return data"
   ]
  },
  {
   "cell_type": "code",
   "execution_count": 71,
   "metadata": {},
   "outputs": [],
   "source": [
    "entries = [digest_trips(entry) for entry in os.scandir('/mnt/d/data_diplomka/trips') if entry.is_file()]"
   ]
  },
  {
   "cell_type": "code",
   "execution_count": 72,
   "metadata": {},
   "outputs": [
    {
     "data": {
      "text/plain": [
       "{'bikes_allowed': 0,\n",
       " 'block_id': '',\n",
       " 'direction_id': 0,\n",
       " 'exceptional': 0,\n",
       " 'route_id': 'L9',\n",
       " 'service_id': '1111100-1',\n",
       " 'shape_id': 'L9V7',\n",
       " 'trip_headsign': 'Spojovací',\n",
       " 'trip_id': '9_99_190902',\n",
       " 'trip_operation_type': 1,\n",
       " 'trip_short_name': '',\n",
       " 'wheelchair_accessible': 2}"
      ]
     },
     "execution_count": 72,
     "metadata": {},
     "output_type": "execute_result"
    }
   ],
   "source": [
    "entries[0][1]"
   ]
  },
  {
   "cell_type": "code",
   "execution_count": 75,
   "metadata": {},
   "outputs": [],
   "source": [
    "for file in entries:\n",
    "    for entry in file:\n",
    "        cur.execute(\"\"\"\n",
    "        INSERT INTO public.\"Trip\"(\n",
    "\ttrip_id, route_id, shape_id, direction, bikes_allowed, headsign)\n",
    "\tVALUES (%s, %s, %s, %s, %s, %s);\"\"\", \n",
    "                    (entry['trip_id'], entry['route_id'], entry['shape_id'], get_bool_from_int_for_wheelchair(entry['direction_id']), get_bool_from_int_for_wheelchair(entry['bikes_allowed']),\n",
    "                    entry['trip_headsign'])\n",
    "                    )"
   ]
  },
  {
   "cell_type": "code",
   "execution_count": 76,
   "metadata": {},
   "outputs": [],
   "source": [
    "conn.commit()"
   ]
  },
  {
   "cell_type": "code",
   "execution_count": null,
   "metadata": {},
   "outputs": [],
   "source": []
  }
 ],
 "metadata": {
  "kernelspec": {
   "display_name": "Python 3",
   "language": "python",
   "name": "python3"
  },
  "language_info": {
   "codemirror_mode": {
    "name": "ipython",
    "version": 3
   },
   "file_extension": ".py",
   "mimetype": "text/x-python",
   "name": "python",
   "nbconvert_exporter": "python",
   "pygments_lexer": "ipython3",
   "version": "3.6.7"
  }
 },
 "nbformat": 4,
 "nbformat_minor": 4
}
