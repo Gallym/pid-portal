{
 "cells": [
  {
   "cell_type": "code",
   "execution_count": 1,
   "metadata": {},
   "outputs": [],
   "source": [
    "import os \n",
    "import json"
   ]
  },
  {
   "cell_type": "code",
   "execution_count": 2,
   "metadata": {},
   "outputs": [],
   "source": [
    "def digest(file):\n",
    "    f = open(file, 'r')\n",
    "    data = [json.loads(line) for line in open(file, 'r')]\n",
    "    #df = pd.read_json(file, lines=True)\n",
    "    return data\n"
   ]
  },
  {
   "cell_type": "markdown",
   "metadata": {},
   "source": [
    "# Vehicle positions\n"
   ]
  },
  {
   "cell_type": "code",
   "execution_count": 3,
   "metadata": {},
   "outputs": [],
   "source": [
    "entries = [digest(entry) for entry in os.scandir('../../data/') if entry.is_file()]"
   ]
  },
  {
   "cell_type": "code",
   "execution_count": 4,
   "metadata": {},
   "outputs": [
    {
     "data": {
      "text/plain": [
       "{'trip': {'cis_agency_name': 'ABOUT ME',\n",
       "  'cis_id': '100166',\n",
       "  'cis_number': 96,\n",
       "  'cis_order': 5,\n",
       "  'cis_parent_route_name': '166',\n",
       "  'cis_real_agency_name': 'ABOUT ME',\n",
       "  'cis_short_name': '166',\n",
       "  'cis_vehicle_registration_number': 1935,\n",
       "  'gtfs_route_id': 'L166',\n",
       "  'gtfs_route_short_name': '166',\n",
       "  'gtfs_trip_id': '166_292_181001',\n",
       "  'id': '2019-08-12T19:09:00Z_100166_166_96',\n",
       "  'start_cis_stop_id': 59501,\n",
       "  'start_cis_stop_platform_code': 'B',\n",
       "  'start_time': '21:09:00',\n",
       "  'start_timestamp': '2019-08-12T19:09:00.000Z',\n",
       "  'vehicle_type': 3,\n",
       "  'wheelchair_accessible': True},\n",
       " 'last_position': {'bearing': 75,\n",
       "  'cis_last_stop_id': 59395,\n",
       "  'cis_last_stop_sequence': 33,\n",
       "  'delay': 269,\n",
       "  'delay_stop_arrival': None,\n",
       "  'delay_stop_departure': 284,\n",
       "  'gtfs_last_stop_id': None,\n",
       "  'gtfs_last_stop_sequence': None,\n",
       "  'gtfs_next_stop_id': 'U63Z1P',\n",
       "  'gtfs_next_stop_sequence': None,\n",
       "  'gtfs_shape_dist_traveled': '16.8',\n",
       "  'is_canceled': False,\n",
       "  'lat': '50.15097',\n",
       "  'lng': '14.51525',\n",
       "  'origin_time': '22:03:47',\n",
       "  'origin_timestamp': '2019-08-12T20:03:47.000Z',\n",
       "  'speed': 29,\n",
       "  'tracking': 2,\n",
       "  'trips_id': '2019-08-12T19:09:00Z_100166_166_96'}}"
      ]
     },
     "execution_count": 4,
     "metadata": {},
     "output_type": "execute_result"
    }
   ],
   "source": [
    "entries[0][2]['features'][4]['properties']\n"
   ]
  },
  {
   "cell_type": "code",
   "execution_count": 32,
   "metadata": {},
   "outputs": [],
   "source": [
    "import psycopg2"
   ]
  },
  {
   "cell_type": "code",
   "execution_count": 33,
   "metadata": {},
   "outputs": [],
   "source": [
    "conn = psycopg2.connect(\"host=10.0.0.4 port=5432 dbname=pid-portal user=postgres password=passwd\")"
   ]
  },
  {
   "cell_type": "code",
   "execution_count": 34,
   "metadata": {},
   "outputs": [],
   "source": [
    "cur = conn.cursor()"
   ]
  },
  {
   "cell_type": "code",
   "execution_count": 35,
   "metadata": {},
   "outputs": [],
   "source": [
    "cur.execute('SELECT * FROM \"User\"')"
   ]
  },
  {
   "cell_type": "code",
   "execution_count": 36,
   "metadata": {},
   "outputs": [
    {
     "data": {
      "text/plain": [
       "(1, 'test', 'test')"
      ]
     },
     "execution_count": 36,
     "metadata": {},
     "output_type": "execute_result"
    }
   ],
   "source": [
    "cur.fetchone()"
   ]
  },
  {
   "cell_type": "code",
   "execution_count": 21,
   "metadata": {},
   "outputs": [],
   "source": [
    "i = 0\n",
    "for line in entries[0]:\n",
    "    for data in line['features']:\n",
    "        cur.execute(\"\"\"\n",
    "                INSERT INTO \"Vehicle_position\" (vehicle_id, timestamp, bearing, calculated_delay, speed, longitude, latitude)\n",
    "                VALUES (%s, %s, %s, %s, %s, %s, %s);\n",
    "                \"\"\",\n",
    "               (data['properties']['trip']['gtfs_route_id'],data['properties']['trip']['start_timestamp'], \n",
    "                data['properties']['last_position']['bearing'], data['properties']['last_position']['delay'],\n",
    "                data['properties']['last_position']['speed'], data['properties']['last_position']['lng'], data['properties']['last_position']['lat']))\n",
    "        i += 1"
   ]
  },
  {
   "cell_type": "code",
   "execution_count": 22,
   "metadata": {},
   "outputs": [],
   "source": [
    "conn.commit()"
   ]
  },
  {
   "cell_type": "markdown",
   "metadata": {},
   "source": [
    "# Stops"
   ]
  },
  {
   "cell_type": "code",
   "execution_count": 47,
   "metadata": {},
   "outputs": [],
   "source": [
    "def get_bool_from_int_for_wheelchair(bool_val):\n",
    "    if bool_val == 1:\n",
    "        return \"1\"\n",
    "    else:\n",
    "        return \"0\""
   ]
  },
  {
   "cell_type": "code",
   "execution_count": 37,
   "metadata": {},
   "outputs": [],
   "source": [
    "def digest_stops(file):\n",
    "    f = open(file, 'r')\n",
    "    #data = [json.loads(line) for line in open(file, 'r')]\n",
    "    data = json.load(f)\n",
    "    return data"
   ]
  },
  {
   "cell_type": "code",
   "execution_count": 38,
   "metadata": {},
   "outputs": [],
   "source": [
    "entries = [digest_stops(entry) for entry in os.scandir('/mnt/d/data_diplomka/stops') if entry.is_file()]"
   ]
  },
  {
   "cell_type": "code",
   "execution_count": 39,
   "metadata": {},
   "outputs": [
    {
     "data": {
      "text/plain": [
       "{'level_id': '',\n",
       " 'location_type': 2,\n",
       " 'parent_station': 'U1000S1',\n",
       " 'platform_code': '',\n",
       " 'stop_code': None,\n",
       " 'stop_desc': None,\n",
       " 'stop_id': 'U1000S1E3',\n",
       " 'stop_lat': 50.12497,\n",
       " 'stop_lon': 14.51587,\n",
       " 'stop_name': 'Listova ul.',\n",
       " 'stop_timezone': None,\n",
       " 'stop_url': '',\n",
       " 'wheelchair_boarding': 1,\n",
       " 'zone_id': '',\n",
       " 'create_batch_id': None,\n",
       " 'created_at': '2019-09-26T03:00:21.913Z',\n",
       " 'created_by': None,\n",
       " 'update_batch_id': None,\n",
       " 'updated_at': '2019-09-26T03:00:21.913Z',\n",
       " 'updated_by': None}"
      ]
     },
     "execution_count": 39,
     "metadata": {},
     "output_type": "execute_result"
    }
   ],
   "source": [
    "entries[0]['features'][5]['properties']"
   ]
  },
  {
   "cell_type": "code",
   "execution_count": 51,
   "metadata": {},
   "outputs": [
    {
     "name": "stdout",
     "output_type": "stream",
     "text": [
      "Executed 1 entries\n"
     ]
    }
   ],
   "source": [
    "for a in entries[0]['features']:\n",
    "    i = 0\n",
    "    cur.execute(\"\"\"\n",
    "    INSERT INTO public.\"Stop\"(\n",
    "\tstop_id, name, lat, lng, zone_id, wheelchair_acc)\n",
    "\tVALUES (%s, %s, %s, %s, %s, %s);\n",
    "    \"\"\",(a['properties']['stop_id'], a['properties']['stop_name'], a['properties']['stop_lat'], a['properties']['stop_lon'], a['properties']['zone_id'], \n",
    "        get_bool_from_int_for_wheelchair(a['properties']['wheelchair_boarding'])\n",
    "        ))\n",
    "    i += 1\n",
    "print('Executed {} entries'.format(i))"
   ]
  },
  {
   "cell_type": "code",
   "execution_count": 52,
   "metadata": {},
   "outputs": [],
   "source": [
    "conn.commit()"
   ]
  },
  {
   "cell_type": "code",
   "execution_count": 42,
   "metadata": {},
   "outputs": [
    {
     "ename": "TypeError",
     "evalue": "eval() arg 1 must be a string, bytes or code object",
     "output_type": "error",
     "traceback": [
      "\u001b[0;31m---------------------------------------------------------------------------\u001b[0m",
      "\u001b[0;31mTypeError\u001b[0m                                 Traceback (most recent call last)",
      "\u001b[0;32m<ipython-input-42-9fe7fe5f02a6>\u001b[0m in \u001b[0;36m<module>\u001b[0;34m\u001b[0m\n\u001b[0;32m----> 1\u001b[0;31m \u001b[0meval\u001b[0m\u001b[0;34m(\u001b[0m\u001b[0;36m1\u001b[0m\u001b[0;34m)\u001b[0m\u001b[0;34m\u001b[0m\u001b[0;34m\u001b[0m\u001b[0m\n\u001b[0m",
      "\u001b[0;31mTypeError\u001b[0m: eval() arg 1 must be a string, bytes or code object"
     ]
    }
   ],
   "source": [
    "eval(1)"
   ]
  },
  {
   "cell_type": "code",
   "execution_count": null,
   "metadata": {},
   "outputs": [],
   "source": []
  }
 ],
 "metadata": {
  "kernelspec": {
   "display_name": "Python 3",
   "language": "python",
   "name": "python3"
  },
  "language_info": {
   "codemirror_mode": {
    "name": "ipython",
    "version": 3
   },
   "file_extension": ".py",
   "mimetype": "text/x-python",
   "name": "python",
   "nbconvert_exporter": "python",
   "pygments_lexer": "ipython3",
   "version": "3.6.7"
  }
 },
 "nbformat": 4,
 "nbformat_minor": 4
}
