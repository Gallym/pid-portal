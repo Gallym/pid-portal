{
 "cells": [
  {
   "cell_type": "code",
   "execution_count": 1,
   "metadata": {},
   "outputs": [],
   "source": [
    "import os \n",
    "import json\n",
    "import psycopg2"
   ]
  },
  {
   "cell_type": "code",
   "execution_count": 2,
   "metadata": {},
   "outputs": [],
   "source": [
    "#establishing connection to db\n",
    "conn = psycopg2.connect(\"host=localhost port=5432 dbname=pid-portal user=postgres password=passwd\") \n",
    "cur = conn.cursor()"
   ]
  },
  {
   "cell_type": "code",
   "execution_count": 3,
   "metadata": {},
   "outputs": [],
   "source": [
    "cur.execute('SELECT * FROM \"User\"') #just simple select to check if connection is working\n",
    "cur.fetchone()"
   ]
  },
  {
   "cell_type": "markdown",
   "metadata": {},
   "source": [
    "# Vehicle positions\n"
   ]
  },
  {
   "cell_type": "code",
   "execution_count": null,
   "metadata": {},
   "outputs": [],
   "source": [
    "def digest(file):\n",
    "    f = open(file, 'r')\n",
    "    data = [json.loads(line) for line in open(file, 'r')]\n",
    "    #df = pd.read_json(file, lines=True)\n",
    "    return data\n"
   ]
  },
  {
   "cell_type": "code",
   "execution_count": null,
   "metadata": {},
   "outputs": [],
   "source": [
    "entries = [digest(entry) for entry in os.scandir('../../data/') if entry.is_file()]"
   ]
  },
  {
   "cell_type": "code",
   "execution_count": null,
   "metadata": {},
   "outputs": [],
   "source": [
    "entries[0][2]['features'][4]['properties']\n"
   ]
  },
  {
   "cell_type": "code",
   "execution_count": null,
   "metadata": {},
   "outputs": [],
   "source": [
    "i = 0\n",
    "for line in entries[0]:\n",
    "    for data in line['features']:\n",
    "        cur.execute(\"\"\"\n",
    "                INSERT INTO public.\"Vehicle_position\"(\n",
    "                route_id, \"timestamp\", bearing, calculated_delay, speed, longitude, latitude, vehicle_id, trip_id, is_canceled)\n",
    "                VALUES (%s, %s, %s, %s, %s, %s, %s, %s, %s, %s);\n",
    "                \"\"\",\n",
    "               (data['properties']['trip']['gtfs_route_id'],data['properties']['trip']['start_timestamp'], \n",
    "                data['properties']['last_position']['bearing'], data['properties']['last_position']['delay'],\n",
    "                data['properties']['last_position']['speed'], data['properties']['last_position']['lng'], data['properties']['last_position']['lat'],\n",
    "                data['properties']['trip']['cis_vehicle_registration_number'], data['properties']['trip']['gtfs_trip_id'], data['properties']['last_position']['is_canceled']\n",
    "               ))\n",
    "        #filling the vehicle table from the position data\n",
    "        cur.execute(\"\"\"\n",
    "        INSERT INTO public.\"Vehicle\"(\n",
    "\tvehicle_id, vehicle_type, agency)\n",
    "\tVALUES (%s, %s, %s)\n",
    "    ON CONFLICT (vehicle_id) DO UPDATE \n",
    "  SET vehicle_type = excluded.vehicle_type, \n",
    "  agency = excluded.agency\n",
    "    ;\n",
    "        \"\"\",\n",
    "            (data['properties']['trip']['cis_vehicle_registration_number'], data['properties']['trip']['vehicle_type'], data['properties']['trip']['cis_agency_name'])\n",
    "                   )\n",
    "        i += 1\n",
    "print('Executed {} entries for table Vehicle_position'.format(i))"
   ]
  },
  {
   "cell_type": "code",
   "execution_count": null,
   "metadata": {},
   "outputs": [],
   "source": [
    "conn.commit()"
   ]
  },
  {
   "cell_type": "markdown",
   "metadata": {},
   "source": [
    "# Stops"
   ]
  },
  {
   "cell_type": "code",
   "execution_count": null,
   "metadata": {},
   "outputs": [],
   "source": [
    "def get_bool_from_int_for_wheelchair(bool_val):\n",
    "    if bool_val == 1:\n",
    "        return \"1\"\n",
    "    else:\n",
    "        return \"0\""
   ]
  },
  {
   "cell_type": "code",
   "execution_count": null,
   "metadata": {},
   "outputs": [],
   "source": [
    "def digest_stops(file):\n",
    "    f = open(file, 'r')\n",
    "    #data = [json.loads(line) for line in open(file, 'r')]\n",
    "    data = json.load(f)\n",
    "    return data"
   ]
  },
  {
   "cell_type": "code",
   "execution_count": null,
   "metadata": {},
   "outputs": [],
   "source": [
    "entries = [digest_stops(entry) for entry in os.scandir('/mnt/d/data_diplomka/stops') if entry.is_file()]"
   ]
  },
  {
   "cell_type": "code",
   "execution_count": null,
   "metadata": {},
   "outputs": [],
   "source": [
    "entries[0]['features'][5]['properties']"
   ]
  },
  {
   "cell_type": "code",
   "execution_count": null,
   "metadata": {},
   "outputs": [],
   "source": [
    "i = 0\n",
    "for a in entries[0]['features']:\n",
    "    \n",
    "    cur.execute(\"\"\"\n",
    "    INSERT INTO public.\"Stop\"(\n",
    "\tstop_id, name, latitude, longitude, zone_id, wheelchair_acc)\n",
    "\tVALUES (%s, %s, %s, %s, %s, %s);\n",
    "    \"\"\",(a['properties']['stop_id'], a['properties']['stop_name'], a['properties']['stop_lat'], a['properties']['stop_lon'], a['properties']['zone_id'], \n",
    "        get_bool_from_int_for_wheelchair(a['properties']['wheelchair_boarding'])\n",
    "        ))\n",
    "    i += 1\n",
    "print('Executed {} entries for table Stop'.format(i))"
   ]
  },
  {
   "cell_type": "code",
   "execution_count": null,
   "metadata": {},
   "outputs": [],
   "source": [
    "conn.commit()"
   ]
  },
  {
   "cell_type": "markdown",
   "metadata": {},
   "source": [
    "# Routes"
   ]
  },
  {
   "cell_type": "code",
   "execution_count": null,
   "metadata": {},
   "outputs": [],
   "source": [
    "def digest_routes(file):\n",
    "    f = open(file, 'r')\n",
    "    data = [json.loads(line) for line in open(file, 'r')]\n",
    "    #data = json.load(f)\n",
    "    return data"
   ]
  },
  {
   "cell_type": "code",
   "execution_count": null,
   "metadata": {},
   "outputs": [],
   "source": [
    "entries = [digest_routes(entry) for entry in os.scandir('/mnt/d/data_diplomka/routes_test') if entry.is_file()]"
   ]
  },
  {
   "cell_type": "code",
   "execution_count": null,
   "metadata": {},
   "outputs": [],
   "source": [
    "entries[1][0]['features'][4]['properties']"
   ]
  },
  {
   "cell_type": "code",
   "execution_count": null,
   "metadata": {},
   "outputs": [],
   "source": [
    "i = 0\n",
    "for route in entries:\n",
    "    for point in route[0]['features']:\n",
    "        cur.execute(\"\"\"\n",
    "        INSERT INTO public.\"Route\"(\n",
    "        route_id, \"order\", distance, latitude, longitude, stop_id)\n",
    "        VALUES (%s, %s, %s, %s, %s, %s);\n",
    "        \"\"\", \n",
    "                    (point['properties']['shape_id'], point['properties']['shape_pt_sequence'], point['properties']['shape_dist_traveled'], point['properties']['shape_pt_lat'],\n",
    "                    point['properties']['shape_pt_lon'], '')\n",
    "                   )\n",
    "        i += 1\n",
    "        #this will update the route with stops by finding route points that are within 10cm from stop location\n",
    "cur.execute(\"\"\"\n",
    "        UPDATE \"Route\"\n",
    "        SET stop_id=subquery.stop_id\n",
    "            FROM (\n",
    "            select A.stop_id, B.route_id, B.order from \"Stop\" as A, \"Route\" as B where calculate_distance(A.latitude, A.longitude, B.latitude,B.longitude, 'K') < 0.01\n",
    "            ) AS subquery\n",
    "        WHERE \"Route\".route_id=subquery.route_id and \"Route\".order=subquery.order;\n",
    "        \"\"\")\n",
    "        \n",
    "print('Executed {} entries for stops'.format(i))"
   ]
  },
  {
   "cell_type": "code",
   "execution_count": null,
   "metadata": {},
   "outputs": [],
   "source": [
    "conn.commit()"
   ]
  },
  {
   "cell_type": "markdown",
   "metadata": {},
   "source": [
    "# Trip"
   ]
  },
  {
   "cell_type": "code",
   "execution_count": null,
   "metadata": {},
   "outputs": [],
   "source": [
    "def digest_trips(file):\n",
    "    f = open(file, 'r')\n",
    "    data = [json.loads(line) for line in open(file, 'r')]\n",
    "    #data = json.load(f)\n",
    "    return data"
   ]
  },
  {
   "cell_type": "code",
   "execution_count": null,
   "metadata": {},
   "outputs": [],
   "source": [
    "entries = [digest_trips(entry) for entry in os.scandir('/mnt/d/data_diplomka/trips') if entry.is_file()]"
   ]
  },
  {
   "cell_type": "code",
   "execution_count": null,
   "metadata": {},
   "outputs": [],
   "source": [
    "entries[0][1]"
   ]
  },
  {
   "cell_type": "code",
   "execution_count": null,
   "metadata": {},
   "outputs": [],
   "source": [
    "for file in entries:\n",
    "    for entry in file:\n",
    "        cur.execute(\"\"\"\n",
    "        INSERT INTO public.\"Trip\"(\n",
    "\ttrip_id, route_id, shape_id, direction, bikes_allowed, headsign)\n",
    "\tVALUES (%s, %s, %s, %s, %s, %s);\"\"\", \n",
    "                    (entry['trip_id'], entry['route_id'], entry['shape_id'], get_bool_from_int_for_wheelchair(entry['direction_id']), get_bool_from_int_for_wheelchair(entry['bikes_allowed']),\n",
    "                    entry['trip_headsign'])\n",
    "                    )"
   ]
  },
  {
   "cell_type": "code",
   "execution_count": null,
   "metadata": {},
   "outputs": [],
   "source": [
    "conn.commit()"
   ]
  },
  {
   "cell_type": "markdown",
   "metadata": {},
   "source": [
    "# Stop Times"
   ]
  },
  {
   "cell_type": "code",
   "execution_count": 4,
   "metadata": {},
   "outputs": [],
   "source": [
    "def digest_st_times(file):\n",
    "    f = open(file, 'r')\n",
    "    data = [json.loads(line) for line in open(file, 'r')]\n",
    "    #data = json.load(f)\n",
    "    return data"
   ]
  },
  {
   "cell_type": "code",
   "execution_count": 5,
   "metadata": {},
   "outputs": [],
   "source": [
    "entries = [digest_st_times(entry) for entry in os.scandir('/mnt/c/data_diplomka/stop_times') if entry.is_file()]"
   ]
  },
  {
   "cell_type": "code",
   "execution_count": 6,
   "metadata": {},
   "outputs": [
    {
     "data": {
      "text/plain": [
       "{'arrival_time': '10:00:05',\n",
       " 'arrival_time_seconds': None,\n",
       " 'departure_time': '10:00:05',\n",
       " 'departure_time_seconds': None,\n",
       " 'drop_off_type': '0',\n",
       " 'pickup_type': '0',\n",
       " 'shape_dist_traveled': 0,\n",
       " 'stop_headsign': '',\n",
       " 'stop_id': 'U1000Z102P',\n",
       " 'stop_sequence': 1,\n",
       " 'timepoint': None,\n",
       " 'trip_id': '993_960_190707'}"
      ]
     },
     "execution_count": 6,
     "metadata": {},
     "output_type": "execute_result"
    }
   ],
   "source": [
    "entries[1][0]"
   ]
  },
  {
   "cell_type": "code",
   "execution_count": 7,
   "metadata": {},
   "outputs": [],
   "source": [
    "for file in entries:\n",
    "    for entry in file:\n",
    "        cur.execute(\"\"\"\n",
    "        INSERT INTO public.stop_time(\n",
    "\ttrip_id, stop_id, sequence, arival_time, departure_time)\n",
    "\tVALUES (%s, %s, %s, %s, %s)\n",
    "    ON CONFLICT (trip_id, stop_id, sequence) DO UPDATE \n",
    "  SET trip_id = excluded.trip_id, \n",
    "  stop_id = excluded.stop_id,\n",
    "  sequence = excluded.sequence,\n",
    "  arival_time = excluded.arival_time,\n",
    "  departure_time = excluded.departure_time\n",
    "  ;\"\"\", \n",
    "                    (entry['trip_id'], entry['stop_id'], entry['stop_sequence'], entry['arrival_time'],\n",
    "                    entry['departure_time'])\n",
    "                    )"
   ]
  },
  {
   "cell_type": "code",
   "execution_count": 8,
   "metadata": {},
   "outputs": [],
   "source": [
    "conn.commit() "
   ]
  },
  {
   "cell_type": "code",
   "execution_count": 9,
   "metadata": {},
   "outputs": [],
   "source": [
    "entries = []"
   ]
  },
  {
   "cell_type": "code",
   "execution_count": null,
   "metadata": {},
   "outputs": [],
   "source": []
  }
 ],
 "metadata": {
  "kernelspec": {
   "display_name": "Python 3",
   "language": "python",
   "name": "python3"
  },
  "language_info": {
   "codemirror_mode": {
    "name": "ipython",
    "version": 3
   },
   "file_extension": ".py",
   "mimetype": "text/x-python",
   "name": "python",
   "nbconvert_exporter": "python",
   "pygments_lexer": "ipython3",
   "version": "3.6.7"
  }
 },
 "nbformat": 4,
 "nbformat_minor": 4
}
